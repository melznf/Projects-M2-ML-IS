{
 "cells": [
  {
   "cell_type": "markdown",
   "metadata": {},
   "source": [
    "Dans les deux phases précédentes, nous avons récupéré des données provenant de plusieurs sources internet et nous les avons préparées pour la phase présente. "
   ]
  },
  {
   "cell_type": "markdown",
   "metadata": {},
   "source": [
    "# Apprentissage"
   ]
  },
  {
   "cell_type": "markdown",
   "metadata": {},
   "source": [
    "**Dans cette partie, nous allons essayer de développer un modèle qui prédise avec le moins d'écart avec la réalité possible le revenu moyen dans un département.**"
   ]
  },
  {
   "cell_type": "markdown",
   "metadata": {},
   "source": [
    "On commence par importer toutes les libraries et fonctions nécéssaires à notre analyse."
   ]
  },
  {
   "cell_type": "code",
   "execution_count": 1,
   "metadata": {},
   "outputs": [],
   "source": [
    "import pandas as pd\n",
    "import numpy as np\n",
    "import matplotlib.pyplot as plt\n",
    "import sklearn\n",
    "import script as sc\n",
    "plt.rcParams[\"figure.figsize\"] = (6,6)"
   ]
  },
  {
   "cell_type": "code",
   "execution_count": 2,
   "metadata": {},
   "outputs": [],
   "source": [
    "from script import outliers, multiplot2, analyse, verif_overfitting, verif_apprentissage, metriques, valeurs_predites, coefficients"
   ]
  },
  {
   "cell_type": "code",
   "execution_count": 3,
   "metadata": {},
   "outputs": [],
   "source": [
    "from sklearn.neighbors import RadiusNeighborsRegressor\n",
    "from sklearn.neighbors import KNeighborsRegressor\n",
    "\n",
    "from sklearn.pipeline import Pipeline\n",
    "\n",
    "from sklearn.preprocessing import PolynomialFeatures\n",
    "\n",
    "from sklearn.linear_model import LinearRegression, Ridge, RidgeCV, Lasso, LassoLars\n",
    "\n",
    "from sklearn.ensemble import RandomForestRegressor\n",
    "from sklearn.ensemble import BaggingRegressor\n",
    "from sklearn.ensemble import BaggingRegressor\n",
    "from sklearn.ensemble import GradientBoostingRegressor\n",
    "from sklearn.ensemble import AdaBoostRegressor\n",
    "from sklearn.ensemble import GradientBoostingRegressor\n",
    "\n",
    "from sklearn.tree import DecisionTreeRegressor\n",
    "\n",
    "from sklearn.model_selection import train_test_split, cross_val_score\n",
    "from sklearn.model_selection import learning_curve\n",
    "from sklearn.model_selection import validation_curve\n",
    "\n",
    "from sklearn.metrics import max_error\n",
    "from sklearn.metrics import r2_score\n",
    "from sklearn.metrics import max_error\n",
    "from sklearn.metrics import mean_squared_error\n",
    "from sklearn.metrics import mean_absolute_error"
   ]
  },
  {
   "cell_type": "markdown",
   "metadata": {},
   "source": [
    "On s'aidera uniquement de la librairie ScikitLearn qui fournit des outils très performants et ergonomiques pour le machine learning. On importe également notre jeu de données sous le nom de data."
   ]
  },
  {
   "cell_type": "code",
   "execution_count": 4,
   "metadata": {},
   "outputs": [],
   "source": [
    "data = pd.read_csv(\"df_final.csv\")"
   ]
  },
  {
   "cell_type": "markdown",
   "metadata": {},
   "source": [
    "La variable à expliquer est le revenu moyen ($y$ un vecteur de dimension $n\\times 1$). On se sert des autres variables pour réaliser les prédictions ($X$ une matrice de dimension $n\\times p$). "
   ]
  },
  {
   "cell_type": "code",
   "execution_count": 5,
   "metadata": {},
   "outputs": [
    {
     "data": {
      "text/html": [
       "<div>\n",
       "<style scoped>\n",
       "    .dataframe tbody tr th:only-of-type {\n",
       "        vertical-align: middle;\n",
       "    }\n",
       "\n",
       "    .dataframe tbody tr th {\n",
       "        vertical-align: top;\n",
       "    }\n",
       "\n",
       "    .dataframe thead th {\n",
       "        text-align: right;\n",
       "    }\n",
       "</style>\n",
       "<table border=\"1\" class=\"dataframe\">\n",
       "  <thead>\n",
       "    <tr style=\"text-align: right;\">\n",
       "      <th></th>\n",
       "      <th>pop_2018</th>\n",
       "      <th>densite</th>\n",
       "      <th>pop_municipale</th>\n",
       "      <th>hab_m</th>\n",
       "      <th>pib_2000</th>\n",
       "      <th>décla</th>\n",
       "      <th>impot</th>\n",
       "      <th>revenu_moyen</th>\n",
       "    </tr>\n",
       "    <tr>\n",
       "      <th>departement</th>\n",
       "      <th></th>\n",
       "      <th></th>\n",
       "      <th></th>\n",
       "      <th></th>\n",
       "      <th></th>\n",
       "      <th></th>\n",
       "      <th></th>\n",
       "      <th></th>\n",
       "    </tr>\n",
       "  </thead>\n",
       "  <tbody>\n",
       "    <tr>\n",
       "      <th>I s è r e</th>\n",
       "      <td>1.284619</td>\n",
       "      <td>0.800611</td>\n",
       "      <td>1.242093</td>\n",
       "      <td>0.744711</td>\n",
       "      <td>0.865181</td>\n",
       "      <td>1.506494</td>\n",
       "      <td>0.645272</td>\n",
       "      <td>1.056381</td>\n",
       "    </tr>\n",
       "    <tr>\n",
       "      <th>A u b e</th>\n",
       "      <td>-0.443752</td>\n",
       "      <td>-0.294850</td>\n",
       "      <td>-0.450764</td>\n",
       "      <td>-0.368124</td>\n",
       "      <td>0.272874</td>\n",
       "      <td>-0.207792</td>\n",
       "      <td>0.356447</td>\n",
       "      <td>-0.085534</td>\n",
       "    </tr>\n",
       "    <tr>\n",
       "      <th>P u y - d e - D ô m e</th>\n",
       "      <td>0.182451</td>\n",
       "      <td>-0.013512</td>\n",
       "      <td>0.165045</td>\n",
       "      <td>0.090268</td>\n",
       "      <td>0.616706</td>\n",
       "      <td>0.627706</td>\n",
       "      <td>0.175358</td>\n",
       "      <td>0.312981</td>\n",
       "    </tr>\n",
       "    <tr>\n",
       "      <th>V a l - d e - M a r n e</th>\n",
       "      <td>1.520007</td>\n",
       "      <td>51.993985</td>\n",
       "      <td>1.462224</td>\n",
       "      <td>19.148801</td>\n",
       "      <td>1.203286</td>\n",
       "      <td>2.948052</td>\n",
       "      <td>2.720917</td>\n",
       "      <td>1.806381</td>\n",
       "    </tr>\n",
       "    <tr>\n",
       "      <th>E u r e - e t - L o i r</th>\n",
       "      <td>-0.219279</td>\n",
       "      <td>-0.090787</td>\n",
       "      <td>-0.215903</td>\n",
       "      <td>-0.107898</td>\n",
       "      <td>0.107556</td>\n",
       "      <td>0.735931</td>\n",
       "      <td>0.182235</td>\n",
       "      <td>0.517327</td>\n",
       "    </tr>\n",
       "    <tr>\n",
       "      <th>...</th>\n",
       "      <td>...</td>\n",
       "      <td>...</td>\n",
       "      <td>...</td>\n",
       "      <td>...</td>\n",
       "      <td>...</td>\n",
       "      <td>...</td>\n",
       "      <td>...</td>\n",
       "      <td>...</td>\n",
       "    </tr>\n",
       "    <tr>\n",
       "      <th>A r d e n n e s</th>\n",
       "      <td>-0.510141</td>\n",
       "      <td>-0.288464</td>\n",
       "      <td>-0.489568</td>\n",
       "      <td>-0.432299</td>\n",
       "      <td>-0.378439</td>\n",
       "      <td>-0.086580</td>\n",
       "      <td>-0.287679</td>\n",
       "      <td>-0.668042</td>\n",
       "    </tr>\n",
       "    <tr>\n",
       "      <th>P a r i s</th>\n",
       "      <td>2.976740</td>\n",
       "      <td>190.981537</td>\n",
       "      <td>3.164478</td>\n",
       "      <td>1585.861072</td>\n",
       "      <td>11.838666</td>\n",
       "      <td>7.515152</td>\n",
       "      <td>10.373639</td>\n",
       "      <td>6.426018</td>\n",
       "    </tr>\n",
       "    <tr>\n",
       "      <th>M a y e n n e</th>\n",
       "      <td>-0.448443</td>\n",
       "      <td>-0.222849</td>\n",
       "      <td>-0.445127</td>\n",
       "      <td>-0.033850</td>\n",
       "      <td>0.334869</td>\n",
       "      <td>-0.445887</td>\n",
       "      <td>-0.642980</td>\n",
       "      <td>-0.030253</td>\n",
       "    </tr>\n",
       "    <tr>\n",
       "      <th>D o r d o g n e</th>\n",
       "      <td>-0.255036</td>\n",
       "      <td>-0.350192</td>\n",
       "      <td>-0.244230</td>\n",
       "      <td>-0.337800</td>\n",
       "      <td>-0.918461</td>\n",
       "      <td>-0.645022</td>\n",
       "      <td>-0.562751</td>\n",
       "      <td>-0.621287</td>\n",
       "    </tr>\n",
       "    <tr>\n",
       "      <th>D o u b s</th>\n",
       "      <td>-0.026468</td>\n",
       "      <td>0.180741</td>\n",
       "      <td>-0.032562</td>\n",
       "      <td>-0.234838</td>\n",
       "      <td>0.854973</td>\n",
       "      <td>0.073593</td>\n",
       "      <td>0.587966</td>\n",
       "      <td>0.886964</td>\n",
       "    </tr>\n",
       "  </tbody>\n",
       "</table>\n",
       "<p>91 rows × 8 columns</p>\n",
       "</div>"
      ],
      "text/plain": [
       "                           pop_2018     densite  pop_municipale        hab_m  \\\n",
       "departement                                                                    \n",
       " I s è r e                 1.284619    0.800611        1.242093     0.744711   \n",
       " A u b e                  -0.443752   -0.294850       -0.450764    -0.368124   \n",
       " P u y - d e - D ô m e     0.182451   -0.013512        0.165045     0.090268   \n",
       " V a l - d e - M a r n e   1.520007   51.993985        1.462224    19.148801   \n",
       " E u r e - e t - L o i r  -0.219279   -0.090787       -0.215903    -0.107898   \n",
       "...                             ...         ...             ...          ...   \n",
       " A r d e n n e s          -0.510141   -0.288464       -0.489568    -0.432299   \n",
       " P a r i s                 2.976740  190.981537        3.164478  1585.861072   \n",
       " M a y e n n e            -0.448443   -0.222849       -0.445127    -0.033850   \n",
       " D o r d o g n e          -0.255036   -0.350192       -0.244230    -0.337800   \n",
       " D o u b s                -0.026468    0.180741       -0.032562    -0.234838   \n",
       "\n",
       "                            pib_2000     décla      impot  revenu_moyen  \n",
       "departement                                                              \n",
       " I s è r e                  0.865181  1.506494   0.645272      1.056381  \n",
       " A u b e                    0.272874 -0.207792   0.356447     -0.085534  \n",
       " P u y - d e - D ô m e      0.616706  0.627706   0.175358      0.312981  \n",
       " V a l - d e - M a r n e    1.203286  2.948052   2.720917      1.806381  \n",
       " E u r e - e t - L o i r    0.107556  0.735931   0.182235      0.517327  \n",
       "...                              ...       ...        ...           ...  \n",
       " A r d e n n e s           -0.378439 -0.086580  -0.287679     -0.668042  \n",
       " P a r i s                 11.838666  7.515152  10.373639      6.426018  \n",
       " M a y e n n e              0.334869 -0.445887  -0.642980     -0.030253  \n",
       " D o r d o g n e           -0.918461 -0.645022  -0.562751     -0.621287  \n",
       " D o u b s                  0.854973  0.073593   0.587966      0.886964  \n",
       "\n",
       "[91 rows x 8 columns]"
      ]
     },
     "execution_count": 5,
     "metadata": {},
     "output_type": "execute_result"
    }
   ],
   "source": [
    "data=data.set_index('departement')\n",
    "X=['pop_2018' , 'densite', 'pop_municipale', 'hab_m', 'pib_2000', 'décla','impot']\n",
    "y=['revenu_moyen']\n",
    "data"
   ]
  },
  {
   "cell_type": "markdown",
   "metadata": {},
   "source": [
    "Les données sont bien celles que nous avons enregistrées à l'étape précédente dans la phase de preprocessing. "
   ]
  },
  {
   "cell_type": "markdown",
   "metadata": {},
   "source": [
    "Comme on l'a vu précédemment, il y a une variable abérrante au niveau du nombre d'habitant par mètre carré sur la ville de Paris. Pour faciliter les estimations, on se débarrasse de cette donnée. "
   ]
  },
  {
   "cell_type": "code",
   "execution_count": 6,
   "metadata": {},
   "outputs": [],
   "source": [
    "data=(\n",
    "    data\n",
    "    .pipe(sc.outliers)\n",
    ")"
   ]
  },
  {
   "cell_type": "markdown",
   "metadata": {},
   "source": [
    "Comme dit précédemment, nous avons une variable dépendante $y$ quantitative et continue. Toutes nos variables explicatives $X$ sont quantitatives également. Nous avons peu de données et elles sont structurées et normales. Il existe des points extrêmes dans notre échantillon et certaines de nos variables sont corrélées.\n",
    "\n",
    "Nous allons donc naturellement nous orienter vers des méthodes de régression, plutôt simples. "
   ]
  },
  {
   "cell_type": "markdown",
   "metadata": {},
   "source": [
    "## Réalisation de plusieurs modèles "
   ]
  },
  {
   "cell_type": "markdown",
   "metadata": {},
   "source": [
    "Dans le but de choisir le meilleur modèle de prédiction, on réalise plusieurs modèles et on observe certaines métriques. On commence par des régressions simples pour aller vers des méthodes ensemblistes plus complexes. On propose donc plusieurs modèles qu'on essaye de tuner grâce à GridSearchCV  et dont on peut observer certaines métriques. Les modèles sont optimisés selon la métrique de la moyenne de l'erreur absolue. On choisit ce critère car on décide de chercher le modèle qui minimise l'écart entre les prédictions et la vraie valeur du revenu moyen par département. Plus précisément, on cherche à élaborer un modèle avec une moyenne des erreurs au carré inférieure à 0,3 et un R2 supérieur à 0,5.\n",
    "\n",
    "La procédure est la suivante, on divise notre base de données en deux échantillons : un échantillon de test et un échantillon d'apprentissage (2/3 des données soit environ 60 individus). Ensuite, selon le modèle, on propose un dictionnaire d'hyperparamètres qui sera utilisé pour chercher le meilleur modèle parmi toutes les combinaisons d'hyperparamètres. Comme dit précédemment, on optimise les modèles grâce à GridSearchCV selon le critère de la moyenne de l'erreur absolue que l'on peut définir de la sorte : \n",
    "$$ NMAE(y, \\hat{y})=- \\frac{1}{n}\\sum_{i=1}^{n}|y_{i}-\\hat{y}_{i}|$$\n",
    "\n",
    "Le modèle optimal est le modèle dont la combinaisaon d'hyperparamètres permet d'obtenir la plus petite valeur de la MAE. Le modèle sera ensuite entraîné et on observe plusieurs autres métriques :\n",
    "* NMSE : La moyenne des écarts au carré dont la formule est :\n",
    "$$ NMSE(y, \\hat{y})=- \\frac{1}{n}\\sum_{i=1}^{n}(y_{i}-\\hat{y}_{i})^2$$\n",
    "\n",
    "* MaxError : L'erreur maximale qui est l'erreur maximale commise par le modèle entre $y_i$ et $\\hat{y}_i$.\n",
    "\n",
    "* R2 : Le coefficient de déterminantion nous donne une indication de l'adaptation du modèle au données. Il peut être trompeur car un R2 très élevé peut être un indicateur de surapprentissage et donc synonyme de très mauvaises prédictions sur les données test. Sa formule est la suivante : \n",
    "$$R2(y, \\hat{y})=1-\\frac{\\sum_{i=1}^{n}(y_{i}-\\hat{y}_{i})^2}{\\sum_{i=1}^{n}(y_{i}-\\bar{y}_{i})^2}$$\n",
    "\n",
    "\n",
    "Enfin, toutes les métriques sont obtenues à partir de la fonction cross_val_score de sklearn avec 2 validations croisées. Les métriques obtenues ultérieurement seront donc des moyennes."
   ]
  },
  {
   "cell_type": "markdown",
   "metadata": {},
   "source": [
    "### Régression linéaire ou polynomiale"
   ]
  },
  {
   "cell_type": "markdown",
   "metadata": {},
   "source": [
    "Le premier modèle testé est le plus simple. La régression tente de trouver des coefficients tels que\n",
    "$y=f(X)$. Plus précisément, on cherche les $\\beta_i$ tels que $$y=\\alpha + \\beta_1 X_1 ... + \\beta_n X_n +\\epsilon$$ où $n$ est le nombre de variables, $\\alpha$ la constante et $\\epsilon$ l'erreur du modèle. On cherche à minimiser $\\epsilon$. La fonction utilisée pour cela est LinearRegression de Sklearn."
   ]
  },
  {
   "cell_type": "markdown",
   "metadata": {},
   "source": [
    "Afin de tester si notre modèle est plus polynomial que linéaire, nous créons un Pipeline qui sera passé dans la fonction GridSearchCV et qui fonctionne en créant d'abord des versions polynomiales de nos variables (avec interactions) avant de les estimer par la fonction LinearRegression :\n",
    "`` \" Pipeline([('scaler', PolynomialFeatures()), ('lin_reg', LinearRegression())]) \" ``\n"
   ]
  },
  {
   "cell_type": "markdown",
   "metadata": {},
   "source": [
    "Les paramètres testés par GridSearchCV sont :\n",
    "\n",
    "``param_grid={'scaler__interaction_only':['False','True'],\n",
    "           'scaler__degree':[1, 2],\n",
    "           'lin_reg__normalize':['False','True'],\n",
    "           'scaler__include_bias':['False','True'],\n",
    "           'lin_reg__fit_intercept':['False', 'True']}``\n",
    "           \n",
    "On lance notre fonction d'analyse qui nous permet de stocker le meilleur modèle, les meilleurs hyperparamètres, le meilleur score, les résidus ($\\epsilon$) et le meilleur score sur les données d'entraînement."
   ]
  },
  {
   "cell_type": "code",
   "execution_count": 7,
   "metadata": {},
   "outputs": [
    {
     "name": "stdout",
     "output_type": "stream",
     "text": [
      "NMSE : -0.4961859977838066\n",
      "MaxErr : -2.104349955890469\n",
      "R2 : 0.5417844488555927\n",
      "NMAE : -0.24805443260748067\n",
      "Somme des résidus : [1.98729921e-14]\n",
      "Moyenne des résidus : 3.090120751873352e-16\n"
     ]
    }
   ],
   "source": [
    "mod_linreg, best_para_linreg, best_score_linreg, resid_linreg, score_tr_linreg = analyse('Lin_reg', data)"
   ]
  },
  {
   "cell_type": "code",
   "execution_count": 8,
   "metadata": {},
   "outputs": [
    {
     "data": {
      "text/plain": [
       "{'lin_reg__fit_intercept': 'False',\n",
       " 'lin_reg__normalize': 'False',\n",
       " 'scaler__degree': 1,\n",
       " 'scaler__include_bias': 'False',\n",
       " 'scaler__interaction_only': 'False'}"
      ]
     },
     "execution_count": 8,
     "metadata": {},
     "output_type": "execute_result"
    }
   ],
   "source": [
    "best_para_linreg"
   ]
  },
  {
   "cell_type": "markdown",
   "metadata": {},
   "source": [
    "### Régression Ridge"
   ]
  },
  {
   "cell_type": "markdown",
   "metadata": {},
   "source": [
    "Nous passons maintenant à une regression Ridge qui est une régression linéaire avec une contrainte quadratique sur les coefficients, fréquemment utilisée quand les variables sont très corrélées. L'expression numérique du problème d'optimisation peut s'écrire de la sorte : \n",
    "$$min_{\\beta} E(\\alpha, \\beta)=\\sum_{i=1}^{n}(y_{i}-X_{i}\\beta)^{2}+\\alpha||\\beta||^2$$\n",
    "\n",
    "La contrainte sur les coefficients augmente l'erreur sur la base d'apprentissage et réduit la norme des coefficients, ce qui peut nécessiter la normalisation des données avant traitement. \n",
    "\n",
    "Ce modèle peut nous être utile dans la mesure où nous avons des variables asssez corrélées comme les variables de population (*pop_2018, densite, pop_municipale*). Par contre, nous ne sommes pas dans le cas d'un grand nombre de variables. "
   ]
  },
  {
   "cell_type": "markdown",
   "metadata": {},
   "source": [
    "Nous testons les hyperparamètres suivants dans la fonction GridSearchCV :\n",
    "\n",
    "``param_grid2={'alpha':[0.01, 0.05, 0.1, 0.5, 1],\n",
    "              'fit_intercept': ['True',  'False'],\n",
    "              'normalize': ['True',  'False'],\n",
    "              'copy_X': ['True',  'False'],\n",
    "              'max_iter':[500, 1000, 1500],\n",
    "              'solver':['auto', 'svd', 'cholesky', 'lsqr', 'sparse_cg', 'sag', 'saga']}``"
   ]
  },
  {
   "cell_type": "markdown",
   "metadata": {},
   "source": [
    "On lance notre fonction d'analyse qui nous permet de stocker le meilleur modèle, les meilleurs hyperparamètres, le meilleur score, les résidus ($\\epsilon$) et le meilleur score sur les données d'entraînement."
   ]
  },
  {
   "cell_type": "code",
   "execution_count": 9,
   "metadata": {},
   "outputs": [
    {
     "name": "stdout",
     "output_type": "stream",
     "text": [
      "NMSE : -0.3072032161503269\n",
      "MaxErr : -1.4047415174971167\n",
      "R2 : 0.7412750814215582\n",
      "NMAE : -0.24978774073496587\n",
      "Somme des résidus : [2.3869795e-15]\n",
      "Moyenne des résidus : 2.8680761469483214e-17\n"
     ]
    }
   ],
   "source": [
    "mod_ridge,best_para_ridge, best_score_ridge, resid_ridge, score_tr_ridge = analyse('Ridge', data)"
   ]
  },
  {
   "cell_type": "code",
   "execution_count": 10,
   "metadata": {},
   "outputs": [
    {
     "data": {
      "text/plain": [
       "{'alpha': 0.01,\n",
       " 'copy_X': 'False',\n",
       " 'fit_intercept': 'True',\n",
       " 'max_iter': 500,\n",
       " 'normalize': 'False',\n",
       " 'solver': 'saga'}"
      ]
     },
     "execution_count": 10,
     "metadata": {},
     "output_type": "execute_result"
    }
   ],
   "source": [
    "best_para_ridge"
   ]
  },
  {
   "cell_type": "markdown",
   "metadata": {},
   "source": [
    "### Régression Lasso"
   ]
  },
  {
   "cell_type": "markdown",
   "metadata": {},
   "source": [
    "Dans la régression Lasso, les coefficients sont obtenus en minimisant la somme des carrés des résidus mais avec une contrainte en plus. Le problème de minimisation s'écrit comme cela :\n",
    "$$ min_{\\beta_1...\\beta_p}\\frac{1}{2}\\sum_{i=1}^{n}\\bigg(y_i-\\beta_{0}-\\sum_{j=1}^{p}\\beta_{j}x_{i,j}\\bigg)$$ \n",
    "sous la contrainte $\\sum_{j=1}^{p}|\\beta_j|\\leq t$. Le paramètre $t$ contrôle donc le niveau de régularisation des coefficients estimés. Il est possible que les coefficients associés à certaines variables soient nuls. \n",
    "\n",
    "Un problème que nous pouvons rencontrer survient dans le cas de très grande corrélation : si des variables sont fortement corrélées et qu'elles sont importantes pour la prédiction, le Lasso aura tendance à en privilégier une au détriment des autres. "
   ]
  },
  {
   "cell_type": "markdown",
   "metadata": {},
   "source": [
    "Les hyperparamètres testés par GridSearchCV sont : \n",
    "    \n",
    "``param_grid3={'fit_intercept':['False','True'],\n",
    "           'alpha':[0.01, 0.05, 0.1, 0.5, 1],\n",
    "           'normalize':['False','True'],\n",
    "           'positive':['False', 'True'],\n",
    "           'random_state':[0],\n",
    "           'selection':['cyclic', 'random'],\n",
    "           'copy_X':['False','True'],\n",
    "           'warm_start':['False','True']}``"
   ]
  },
  {
   "cell_type": "markdown",
   "metadata": {},
   "source": [
    "On lance notre fonction d'analyse qui nous permet de stocker le meilleur modèle, les meilleurs hyperparamètres, le meilleur score, les résidus ($\\epsilon$) et le meilleur score sur les données d'entraînement."
   ]
  },
  {
   "cell_type": "code",
   "execution_count": 11,
   "metadata": {},
   "outputs": [
    {
     "name": "stdout",
     "output_type": "stream",
     "text": [
      "NMSE : -0.20971284846107646\n",
      "MaxErr : -1.3676614506514244\n",
      "R2 : 0.6968873327259001\n",
      "NMAE : -0.3024163794534596\n",
      "Somme des résidus : [1.99840144e-15]\n",
      "Moyenne des résidus : 3.3306690738754695e-17\n"
     ]
    }
   ],
   "source": [
    "mod_lasso, best_para_lasso, best_score_lasso, resid_lasso, score_tr_lasso=analyse('Lasso', data)"
   ]
  },
  {
   "cell_type": "code",
   "execution_count": 12,
   "metadata": {},
   "outputs": [
    {
     "data": {
      "text/plain": [
       "{'alpha': 0.01,\n",
       " 'copy_X': 'False',\n",
       " 'fit_intercept': 'False',\n",
       " 'normalize': 'False',\n",
       " 'positive': 'False',\n",
       " 'random_state': 0,\n",
       " 'selection': 'random',\n",
       " 'warm_start': 'False'}"
      ]
     },
     "execution_count": 12,
     "metadata": {},
     "output_type": "execute_result"
    }
   ],
   "source": [
    "best_para_lasso"
   ]
  },
  {
   "cell_type": "markdown",
   "metadata": {},
   "source": [
    "On peut également tester une extension de la méthode Lasso avec la commande LassoLars qui implémente une résolution Lasso en faisant appel à l'algorithme LARS (pour least-angle regression)."
   ]
  },
  {
   "cell_type": "code",
   "execution_count": 13,
   "metadata": {},
   "outputs": [
    {
     "name": "stdout",
     "output_type": "stream",
     "text": [
      "NMSE : -0.3326891575780464\n",
      "MaxErr : -1.6590752741737673\n",
      "R2 : 0.6333862398102341\n",
      "NMAE : -0.30099244658326796\n",
      "Somme des résidus : [-0.30984795]\n",
      "Moyenne des résidus : -0.005164132568884554\n"
     ]
    }
   ],
   "source": [
    "mod_lassoLars, best_para_lassoLars, best_score_lassoLars, resid_lassoLars, score_tr_lassoLars=analyse('LassoLars', data)"
   ]
  },
  {
   "cell_type": "code",
   "execution_count": 14,
   "metadata": {},
   "outputs": [
    {
     "data": {
      "text/plain": [
       "{'alpha': 0.01,\n",
       " 'copy_X': 'False',\n",
       " 'fit_intercept': 'False',\n",
       " 'fit_path': 'False',\n",
       " 'jitter': 0.01,\n",
       " 'max_iter': 1000,\n",
       " 'normalize': 'True',\n",
       " 'random_state': 0}"
      ]
     },
     "execution_count": 14,
     "metadata": {},
     "output_type": "execute_result"
    }
   ],
   "source": [
    "best_para_lassoLars"
   ]
  },
  {
   "cell_type": "markdown",
   "metadata": {},
   "source": [
    "### Méthodes ensemblistes "
   ]
  },
  {
   "cell_type": "markdown",
   "metadata": {},
   "source": [
    "Les méthodes testées dans cette partie sont beacoup plus complexes que les précédentes. En effet, elles font appel à des techniques plus sophistiquées que la simple régression. L'idée générale est de faire appel à plusieurs estimateurs et de combiner leurs résultats afin d'obtenir le meilleur estimateur.\n",
    "\n",
    "Outre la complexité inhérente à ces méthodes, une autre problématique se pose : celle du surapprentissage. Ces modèles dont donc assez compliqués à paramétrer et peuvent cependant fournir des résultats médiocres. Sur des données simples et peu nombreuses comme les nôtres, on a tendance à penser que ce ne sont pas les méthodes les plus pertinentes. Nous allons cependant en tester quelques unes. "
   ]
  },
  {
   "cell_type": "markdown",
   "metadata": {},
   "source": [
    "#### Forêt aléatoire"
   ]
  },
  {
   "cell_type": "markdown",
   "metadata": {},
   "source": [
    "La principe de la forêt aléatoire est de regrouper plusieurs arbres de décision. Le problème des arbres de décision est qu'ils sont très soumis au surapprentissage. La forêt aléatoire, quant à elle n'est pas susceptble d'être en surapprentissage et elle combine plusieurs arbres de décision peu voire pas profonds."
   ]
  },
  {
   "cell_type": "markdown",
   "metadata": {},
   "source": [
    "Les paramètres testés par GridSearchCV sont les suivants :\n",
    "    \n",
    "``param_grid6={'n_estimators': [5, 8, 10, 25, 50],\n",
    "          'max_depth': [2, 3, 4],\n",
    "          'max_features':[2, 'auto', 'sqrt', 'log2'],\n",
    "          'min_samples_split': [2, 3, 4],\n",
    "          'bootstrap': ['True', 'False'],\n",
    "          'max_samples':[2, 3, 4],\n",
    "          'warm_start':['False','True']}``\n",
    "      \n",
    "On lance la fonction analyse et on peut observer les résultats. Pour réduire le temps d'éxécution de ce modèle, les métriques ne seront pas obtenues par CrossValidation. "
   ]
  },
  {
   "cell_type": "code",
   "execution_count": 15,
   "metadata": {},
   "outputs": [
    {
     "name": "stdout",
     "output_type": "stream",
     "text": [
      "NMAE : -0.45511056105610576\n",
      "NMSE : 0.7687840085424935\n",
      "R2 : 0.40653190577325105\n",
      "MaxError : 4.784279427942795\n",
      "Somme des résidus : [8.5139604]\n",
      "Moyenne des résidus : 0.1418993399339934\n"
     ]
    }
   ],
   "source": [
    "mod_RandF, best_para_RandF, best_score_RandF, resid_RandF, score_tr_RandF=analyse('RandF', data)"
   ]
  },
  {
   "cell_type": "code",
   "execution_count": 16,
   "metadata": {},
   "outputs": [
    {
     "data": {
      "text/plain": [
       "{'bootstrap': 'True',\n",
       " 'max_depth': 3,\n",
       " 'max_features': 2,\n",
       " 'max_samples': 4,\n",
       " 'min_samples_split': 2,\n",
       " 'n_estimators': 50,\n",
       " 'warm_start': 'True'}"
      ]
     },
     "execution_count": 16,
     "metadata": {},
     "output_type": "execute_result"
    }
   ],
   "source": [
    "best_para_RandF"
   ]
  },
  {
   "cell_type": "markdown",
   "metadata": {},
   "source": [
    "#### AdaBoost"
   ]
  },
  {
   "cell_type": "markdown",
   "metadata": {},
   "source": [
    "L'algorithme Adaboost permet de combiner plusieurs estimateurs faibles et d'en \"booster\" les performances. Cet algorithme peut se baser sur plusieurs autres modèles comme les arbres de décision par exemple. Chaque estimateur faible réalise un apprentissage sur les données en corrigeant les erreurs des estimateurs précédents. Les sorties des autres algorithmes sont combinées en une somme pondérée qui représente la sortie finale du régresseur boosté."
   ]
  },
  {
   "cell_type": "markdown",
   "metadata": {},
   "source": [
    "Les hyperparamètres testés par GridSearchCV sont :\n",
    "    \n",
    "``param_grid7={'n_estimators': [5, 8, 10, 25, 50],\n",
    "          'base_estimator':[DecisionTreeRegressor(), LinearRegression()],\n",
    "          'learning_rate': [0.01, 0.05, 0.1, 0.5, 1],\n",
    "          'loss':['linear', 'square', 'exponential']}``\n",
    "          \n",
    "Cet algorithme va donc être testé sur la régression linéaire et l'arbre de décision. On lance la commande analyse et on peut observer certaines métriques."
   ]
  },
  {
   "cell_type": "code",
   "execution_count": 18,
   "metadata": {},
   "outputs": [
    {
     "name": "stdout",
     "output_type": "stream",
     "text": [
      "NMSE : -1.3089308966902775\n",
      "MaxErr : -3.2755852898891638\n",
      "R2 : 0.31118054461278294\n",
      "NMAE : -0.2423672381291246\n",
      "Somme des résidus : [-0.22759765]\n",
      "Moyenne des résidus : -0.0037932941148013117\n"
     ]
    }
   ],
   "source": [
    "mod_AdaBoost, best_para_AdaBoost, best_score_AdaBoost, resid_AdaBoost, score_tr_AdaBoost=analyse('AdaBoost', data)"
   ]
  },
  {
   "cell_type": "code",
   "execution_count": 19,
   "metadata": {},
   "outputs": [
    {
     "data": {
      "text/plain": [
       "{'base_estimator': LinearRegression(),\n",
       " 'learning_rate': 0.05,\n",
       " 'loss': 'linear',\n",
       " 'n_estimators': 50}"
      ]
     },
     "execution_count": 19,
     "metadata": {},
     "output_type": "execute_result"
    }
   ],
   "source": [
    "best_para_AdaBoost"
   ]
  },
  {
   "cell_type": "markdown",
   "metadata": {},
   "source": [
    "#### Bagging"
   ]
  },
  {
   "cell_type": "markdown",
   "metadata": {},
   "source": [
    "La technique de bagging est un estimateur ensembliste qui permet d'entraîner plusieurs modèles faibles sur plusieurs échantillons des données originelles et d'en aggréger les prédictions individuelles pour former une prédiction finale. Comme pour le boosting, cet algorithme peut se baser sur d'autres estimateurs faibles comme les arbres de décision. "
   ]
  },
  {
   "cell_type": "markdown",
   "metadata": {},
   "source": [
    "Les hyperparamètres tunés par GridSearchCV sont les suivants :\n",
    "\n",
    "``param_grid8={'warm_start': ['False', 'True'],\n",
    "          'base_estimator':[DecisionTreeRegressor(), LinearRegression()],\n",
    "          'n_estimators':[5, 8, 10, 25, 50],\n",
    "          'bootstrap':['True', 'False'],\n",
    "          'max_features': [0.5, 1],\n",
    "          'n_jobs':[1, 2, 3],\n",
    "          'random_state':[0]}``\n",
    "          \n",
    "Comme pour le modèle précédent, on définit que les estimateurs faibles peuvent être des régressions linéaires ou des arbres de décision. On lance la fonction analyse et on peut observer les résultats. Pour réduire le temps d'éxécution de ce modèle, les métriques ne seront pas obtenues par CrossValidation."
   ]
  },
  {
   "cell_type": "code",
   "execution_count": 20,
   "metadata": {},
   "outputs": [
    {
     "name": "stdout",
     "output_type": "stream",
     "text": [
      "NMSE : 0.12020190654436558\n",
      "R2 : 0.9072093128802855\n",
      "MaxError : 1.215784814693079\n",
      "Somme des résidus : [-0.38810884]\n",
      "Moyenne des résidus : -0.006468480715075011\n"
     ]
    }
   ],
   "source": [
    "mod_Bagging, best_para_Bagging, best_score_Bagging, resid_Bagging, score_tr_Bagging=analyse('Bagging', data)"
   ]
  },
  {
   "cell_type": "code",
   "execution_count": 21,
   "metadata": {},
   "outputs": [
    {
     "data": {
      "text/plain": [
       "{'base_estimator': LinearRegression(),\n",
       " 'bootstrap': 'True',\n",
       " 'max_features': 0.5,\n",
       " 'n_estimators': 25,\n",
       " 'n_jobs': 1,\n",
       " 'random_state': 0,\n",
       " 'warm_start': 'False'}"
      ]
     },
     "execution_count": 21,
     "metadata": {},
     "output_type": "execute_result"
    }
   ],
   "source": [
    "best_para_Bagging"
   ]
  },
  {
   "cell_type": "markdown",
   "metadata": {},
   "source": [
    "On peut conclure que les modèles les plus simples ne sont pas forcément les plus mauvais. Parmis les modèles qui obtiennent les meilleures métriques, on a les régressions Ridge et Lasso et le bagging avec la regression linéaire comme estimateur de base. Le bagging semble être un estimateur très complexe pour si peu de données. De plus, ce R2 très élevé peut être signe d'overfitting. "
   ]
  },
  {
   "cell_type": "markdown",
   "metadata": {},
   "source": [
    "## Choix du meilleur modèle "
   ]
  },
  {
   "cell_type": "markdown",
   "metadata": {},
   "source": [
    "Nous allons observer quelques graphiques afin de valider notre choix de modèle final."
   ]
  },
  {
   "cell_type": "markdown",
   "metadata": {},
   "source": [
    "### Overfitting"
   ]
  },
  {
   "cell_type": "markdown",
   "metadata": {},
   "source": [
    "On essaye de checker le surapprentissage dans les modèles Ridge, Lasso et Bagging. On utilise pour cela la fonction validation_curve avec cinq validations croisées. Si la courbe correspondant au score d'entraînement et celle correspondant au score de validation sont toutes les deux basses, alors l'estimateur est en sous-apprentissage. Si le score d'apprentissage est très haut et le score de validation est bas, alors on en en situation de surapprentissage, sinon, c'est que le modèle marche bien. La métrique considérée est la moyenne des erreurs absolues."
   ]
  },
  {
   "cell_type": "markdown",
   "metadata": {},
   "source": [
    "#### Régression Lasso"
   ]
  },
  {
   "cell_type": "code",
   "execution_count": 22,
   "metadata": {},
   "outputs": [
    {
     "data": {
      "image/png": "[encoded data removed]",
      "text/plain": [
       "<Figure size 432x432 with 1 Axes>"
      ]
     },
     "metadata": {
      "needs_background": "light"
     },
     "output_type": "display_data"
    }
   ],
   "source": [
    "train_scores_lasso, valid_scores_lasso =verif_overfitting('Lasso', mod_lasso.best_estimator_, data)"
   ]
  },
  {
   "cell_type": "markdown",
   "metadata": {},
   "source": [
    "On voit qu'il y a un peu d'overfitting mais cela est constant et le delta entre le score entraînement et le score de validation est réduit."
   ]
  },
  {
   "cell_type": "markdown",
   "metadata": {},
   "source": [
    "#### Bagging"
   ]
  },
  {
   "cell_type": "code",
   "execution_count": 23,
   "metadata": {},
   "outputs": [
    {
     "data": {
      "image/png": "[encoded data removed]",
      "text/plain": [
       "<Figure size 432x432 with 1 Axes>"
      ]
     },
     "metadata": {
      "needs_background": "light"
     },
     "output_type": "display_data"
    }
   ],
   "source": [
    "train_scores_bagging, valid_scores_bagging = verif_overfitting('Bagging', mod_Bagging.best_estimator_, data)"
   ]
  },
  {
   "cell_type": "markdown",
   "metadata": {},
   "source": [
    "Sans surprise, on observe qu'il y a de l'overfitting mais pas tant que cela. "
   ]
  },
  {
   "cell_type": "markdown",
   "metadata": {},
   "source": [
    "#### Régression Ridge"
   ]
  },
  {
   "cell_type": "code",
   "execution_count": 24,
   "metadata": {},
   "outputs": [
    {
     "data": {
      "image/png": "[encoded data removed]",
      "text/plain": [
       "<Figure size 432x432 with 1 Axes>"
      ]
     },
     "metadata": {
      "needs_background": "light"
     },
     "output_type": "display_data"
    }
   ],
   "source": [
    "train_scores_ridge, valid_scores_ridge =verif_overfitting('Ridge', mod_ridge.best_estimator_, data)"
   ]
  },
  {
   "cell_type": "markdown",
   "metadata": {},
   "source": [
    "Dans ce cas, il y a un peu d'overfitting. Ce modèle semble être le meilleur car il présente la MAE la plus faible sur les données de test."
   ]
  },
  {
   "cell_type": "markdown",
   "metadata": {},
   "source": [
    "### Courbe d'apprentissage"
   ]
  },
  {
   "cell_type": "markdown",
   "metadata": {},
   "source": [
    "Dans cette partie, nous cherchons à savoir si notre modèle pourrait être plus performant s'il bénéficiait de plus de données. Si les courbes sont dans une phase de croissance, alors cela peut être le signe que le modèle aurait pu être plus efficace avec plus de données. La métrique considérée est la moyenne des erreurs absolues."
   ]
  },
  {
   "cell_type": "markdown",
   "metadata": {},
   "source": [
    "#### Régression Lasso"
   ]
  },
  {
   "cell_type": "code",
   "execution_count": 25,
   "metadata": {},
   "outputs": [
    {
     "data": {
      "image/png": "[encoded data removed]",
      "text/plain": [
       "<Figure size 432x432 with 1 Axes>"
      ]
     },
     "metadata": {
      "needs_background": "light"
     },
     "output_type": "display_data"
    }
   ],
   "source": [
    "train_sizes_lasso2, train_scores_lasso2, valid_scores_lasso2=verif_apprentissage('Lasso', mod_lasso.best_estimator_, data)"
   ]
  },
  {
   "cell_type": "markdown",
   "metadata": {},
   "source": [
    "La courbe sur les données d'entraînement est assez stable, voire décroissante. On a des scores encore croissants en échantillon de validation donc effectivement, notre modèle gagnerait à être plus performant avec plus de données."
   ]
  },
  {
   "cell_type": "markdown",
   "metadata": {},
   "source": [
    "#### Bagging"
   ]
  },
  {
   "cell_type": "code",
   "execution_count": 26,
   "metadata": {},
   "outputs": [
    {
     "data": {
      "image/png": "[encoded data removed]",
      "text/plain": [
       "<Figure size 432x432 with 1 Axes>"
      ]
     },
     "metadata": {
      "needs_background": "light"
     },
     "output_type": "display_data"
    }
   ],
   "source": [
    "train_sizes_bagging2, train_scores_bagging2, valid_scores_bagging2=verif_apprentissage('Bagging', mod_Bagging.best_estimator_, data)"
   ]
  },
  {
   "cell_type": "markdown",
   "metadata": {},
   "source": [
    "Sans surprise, ce modèle pourrait être plus performant avec plus de données."
   ]
  },
  {
   "cell_type": "markdown",
   "metadata": {},
   "source": [
    "#### Régression Ridge"
   ]
  },
  {
   "cell_type": "code",
   "execution_count": 27,
   "metadata": {},
   "outputs": [
    {
     "data": {
      "image/png": "[encoded data removed]",
      "text/plain": [
       "<Figure size 432x432 with 1 Axes>"
      ]
     },
     "metadata": {
      "needs_background": "light"
     },
     "output_type": "display_data"
    }
   ],
   "source": [
    "train_sizes_ridge2, train_scores_ridge2, valid_scores_ridge2=verif_apprentissage('Ridge', mod_ridge.best_estimator_, data)"
   ]
  },
  {
   "cell_type": "markdown",
   "metadata": {},
   "source": [
    "La courbe sur les données d'entraînement est assez stable, voire décroissante. On a des scores encore croissants en échantillon de validation donc effectivement, notre modèle gagnerait à être plus performant avec plus de données. C'est à peu près le même cas que pour la régression lasso avec une MAE plus faible cependant.\n",
    "\n",
    "La régression Ridge semble être le meilleur modèle. Elle présente des métriques intéressantes. On arrête donc notre choix sur ce modèle. Nous allons enchaîner sur les prédictons sur les données de test et l'observation de certaines métriques sur ces mêmes données."
   ]
  },
  {
   "cell_type": "markdown",
   "metadata": {},
   "source": [
    "## Prédictions "
   ]
  },
  {
   "cell_type": "markdown",
   "metadata": {},
   "source": [
    "On a donc choisi le modèle Ridge comme meilleur modèle. On va réaliser les prévisions mais on commence par observer les coefficients associés à chaque variable."
   ]
  },
  {
   "cell_type": "code",
   "execution_count": 28,
   "metadata": {},
   "outputs": [],
   "source": [
    "X=['pop_2018' , 'densite', 'pop_municipale', 'hab_m', 'pib_2000', 'décla','impot']\n",
    "y=['revenu_moyen']\n",
    "X_train, X_test, y_train, y_test = train_test_split(data[X], data[y], test_size=0.33, random_state=42)"
   ]
  },
  {
   "cell_type": "code",
   "execution_count": 29,
   "metadata": {},
   "outputs": [
    {
     "name": "stdout",
     "output_type": "stream",
     "text": [
      "COEFFICIENTS DE CHAQUE FEATURE\n",
      "pop_2018 : 0.06577651159871525\n",
      "densite : -0.011316956809945244\n",
      "pop_municipale : 0.03199110927586679\n",
      "hab_m : -0.024539857490564712\n",
      "pib_2000 : 0.17040738486517887\n",
      "décla : 0.2500949236657729\n",
      "impot : 0.5085328224274448\n"
     ]
    }
   ],
   "source": [
    "coefficients(X_train, mod_ridge)"
   ]
  },
  {
   "cell_type": "markdown",
   "metadata": {},
   "source": [
    "Les coefficients sont très petits du fait de la contrainte quadratique appliquée sur ces derniers par la régression Ridge. Les plus importants sont *impot*, *décla* et *pib_2000*."
   ]
  },
  {
   "cell_type": "code",
   "execution_count": 30,
   "metadata": {},
   "outputs": [],
   "source": [
    "revenu_moyen_prédit= mod_ridge.best_estimator_.predict(X_test)\n",
    "array_test=np.array(y_test)"
   ]
  },
  {
   "cell_type": "markdown",
   "metadata": {},
   "source": [
    "On peut finalement observer les métriques sur les données de test afin de savoir si elles correspondent à nos attentes. "
   ]
  },
  {
   "cell_type": "code",
   "execution_count": 31,
   "metadata": {},
   "outputs": [
    {
     "name": "stdout",
     "output_type": "stream",
     "text": [
      "METRIQUES SUR LES DONNEES DE TEST\n",
      "MSE : 0.28139\n",
      "R2 : 0.53703\n",
      "MaxError : 2.26719\n",
      "MAE : 0.31427\n"
     ]
    }
   ],
   "source": [
    "metriques(y_test, revenu_moyen_prédit)"
   ]
  },
  {
   "cell_type": "code",
   "execution_count": 32,
   "metadata": {},
   "outputs": [],
   "source": [
    "resid=[]\n",
    "for i in range(len(y_test)):\n",
    "            residuals=np.abs(array_test[i])-np.abs(revenu_moyen_prédit[i])\n",
    "            resid.append(np.round(np.asarray(residuals),6))"
   ]
  },
  {
   "cell_type": "markdown",
   "metadata": {},
   "source": [
    "On réalise les prédictions et on observe les valeurs prédites et les valeurs réelles du revenu moyen. "
   ]
  },
  {
   "cell_type": "code",
   "execution_count": 33,
   "metadata": {},
   "outputs": [
    {
     "data": {
      "text/html": [
       "<div>\n",
       "<style scoped>\n",
       "    .dataframe tbody tr th:only-of-type {\n",
       "        vertical-align: middle;\n",
       "    }\n",
       "\n",
       "    .dataframe tbody tr th {\n",
       "        vertical-align: top;\n",
       "    }\n",
       "\n",
       "    .dataframe thead th {\n",
       "        text-align: right;\n",
       "    }\n",
       "</style>\n",
       "<table border=\"1\" class=\"dataframe\">\n",
       "  <thead>\n",
       "    <tr style=\"text-align: right;\">\n",
       "      <th></th>\n",
       "      <th>revenu_moyen</th>\n",
       "      <th>predit</th>\n",
       "      <th>erreur</th>\n",
       "    </tr>\n",
       "    <tr>\n",
       "      <th>departement</th>\n",
       "      <th></th>\n",
       "      <th></th>\n",
       "      <th></th>\n",
       "    </tr>\n",
       "  </thead>\n",
       "  <tbody>\n",
       "    <tr>\n",
       "      <th>L o t - e t - G a r o n n e</th>\n",
       "      <td>-0.536029</td>\n",
       "      <td>-0.384618</td>\n",
       "      <td>0.151411</td>\n",
       "    </tr>\n",
       "    <tr>\n",
       "      <th>A l l i e r</th>\n",
       "      <td>-0.630638</td>\n",
       "      <td>-0.458794</td>\n",
       "      <td>0.171844</td>\n",
       "    </tr>\n",
       "    <tr>\n",
       "      <th>S a ô n e - e t - L o i r e</th>\n",
       "      <td>-0.008801</td>\n",
       "      <td>-0.100488</td>\n",
       "      <td>-0.091687</td>\n",
       "    </tr>\n",
       "    <tr>\n",
       "      <th>A v e y r o n</th>\n",
       "      <td>-0.202420</td>\n",
       "      <td>-0.438016</td>\n",
       "      <td>-0.235595</td>\n",
       "    </tr>\n",
       "    <tr>\n",
       "      <th>I s è r e</th>\n",
       "      <td>1.056381</td>\n",
       "      <td>0.990224</td>\n",
       "      <td>0.066156</td>\n",
       "    </tr>\n",
       "    <tr>\n",
       "      <th>Y o n n e</th>\n",
       "      <td>-0.224422</td>\n",
       "      <td>-0.114913</td>\n",
       "      <td>0.109509</td>\n",
       "    </tr>\n",
       "    <tr>\n",
       "      <th>F i n i s t è r e</th>\n",
       "      <td>0.327283</td>\n",
       "      <td>0.026684</td>\n",
       "      <td>0.300599</td>\n",
       "    </tr>\n",
       "    <tr>\n",
       "      <th>M e u r t h e - e t - M o s e l l e</th>\n",
       "      <td>0.239274</td>\n",
       "      <td>0.386557</td>\n",
       "      <td>-0.147284</td>\n",
       "    </tr>\n",
       "    <tr>\n",
       "      <th>L o i r e</th>\n",
       "      <td>-0.015127</td>\n",
       "      <td>-0.015245</td>\n",
       "      <td>-0.000119</td>\n",
       "    </tr>\n",
       "    <tr>\n",
       "      <th>H a u t e - S a v o i e</th>\n",
       "      <td>3.234873</td>\n",
       "      <td>0.967682</td>\n",
       "      <td>2.267192</td>\n",
       "    </tr>\n",
       "    <tr>\n",
       "      <th>M e u s e</th>\n",
       "      <td>-0.446370</td>\n",
       "      <td>-0.452038</td>\n",
       "      <td>-0.005668</td>\n",
       "    </tr>\n",
       "    <tr>\n",
       "      <th>P a s - d e - C a l a i s</th>\n",
       "      <td>-0.660616</td>\n",
       "      <td>-0.063134</td>\n",
       "      <td>0.597483</td>\n",
       "    </tr>\n",
       "    <tr>\n",
       "      <th>M a r n e</th>\n",
       "      <td>0.696645</td>\n",
       "      <td>1.031502</td>\n",
       "      <td>-0.334857</td>\n",
       "    </tr>\n",
       "    <tr>\n",
       "      <th>A r d e n n e s</th>\n",
       "      <td>-0.668042</td>\n",
       "      <td>-0.226796</td>\n",
       "      <td>0.441246</td>\n",
       "    </tr>\n",
       "    <tr>\n",
       "      <th>C a n t a l</th>\n",
       "      <td>-0.607811</td>\n",
       "      <td>-0.832198</td>\n",
       "      <td>-0.224387</td>\n",
       "    </tr>\n",
       "    <tr>\n",
       "      <th>E u r e - e t - L o i r</th>\n",
       "      <td>0.517327</td>\n",
       "      <td>0.318383</td>\n",
       "      <td>0.198944</td>\n",
       "    </tr>\n",
       "    <tr>\n",
       "      <th>J u r a</th>\n",
       "      <td>0.242574</td>\n",
       "      <td>-0.107923</td>\n",
       "      <td>0.134651</td>\n",
       "    </tr>\n",
       "    <tr>\n",
       "      <th>H é r a u l t</th>\n",
       "      <td>0.000000</td>\n",
       "      <td>0.662695</td>\n",
       "      <td>-0.662695</td>\n",
       "    </tr>\n",
       "    <tr>\n",
       "      <th>V a l - d ' O i s e</th>\n",
       "      <td>1.003850</td>\n",
       "      <td>1.318698</td>\n",
       "      <td>-0.314847</td>\n",
       "    </tr>\n",
       "    <tr>\n",
       "      <th>B o u c h e s - d u - R h ô n e</th>\n",
       "      <td>0.499175</td>\n",
       "      <td>1.233937</td>\n",
       "      <td>-0.734762</td>\n",
       "    </tr>\n",
       "    <tr>\n",
       "      <th>N o r d</th>\n",
       "      <td>-0.013476</td>\n",
       "      <td>0.900192</td>\n",
       "      <td>-0.886716</td>\n",
       "    </tr>\n",
       "    <tr>\n",
       "      <th>H a u t e - S a ô n e</th>\n",
       "      <td>-0.292629</td>\n",
       "      <td>-0.527775</td>\n",
       "      <td>-0.235146</td>\n",
       "    </tr>\n",
       "    <tr>\n",
       "      <th>I n d r e - e t - L o i r e</th>\n",
       "      <td>0.412816</td>\n",
       "      <td>0.387607</td>\n",
       "      <td>0.025209</td>\n",
       "    </tr>\n",
       "    <tr>\n",
       "      <th>C h e r</th>\n",
       "      <td>-0.292629</td>\n",
       "      <td>-0.246077</td>\n",
       "      <td>0.046552</td>\n",
       "    </tr>\n",
       "    <tr>\n",
       "      <th>S a r t h e</th>\n",
       "      <td>0.012926</td>\n",
       "      <td>-0.092260</td>\n",
       "      <td>-0.079333</td>\n",
       "    </tr>\n",
       "    <tr>\n",
       "      <th>S a v o i e</th>\n",
       "      <td>1.048130</td>\n",
       "      <td>0.654172</td>\n",
       "      <td>0.393958</td>\n",
       "    </tr>\n",
       "    <tr>\n",
       "      <th>L o z è r e</th>\n",
       "      <td>-0.750275</td>\n",
       "      <td>-0.779033</td>\n",
       "      <td>-0.028758</td>\n",
       "    </tr>\n",
       "    <tr>\n",
       "      <th>L o i r - e t - C h e r</th>\n",
       "      <td>0.115787</td>\n",
       "      <td>-0.070869</td>\n",
       "      <td>0.044917</td>\n",
       "    </tr>\n",
       "    <tr>\n",
       "      <th>I n d r e</th>\n",
       "      <td>-0.705446</td>\n",
       "      <td>-0.621274</td>\n",
       "      <td>0.084172</td>\n",
       "    </tr>\n",
       "    <tr>\n",
       "      <th>V i e n n e</th>\n",
       "      <td>-0.144114</td>\n",
       "      <td>-0.146131</td>\n",
       "      <td>-0.002017</td>\n",
       "    </tr>\n",
       "  </tbody>\n",
       "</table>\n",
       "</div>"
      ],
      "text/plain": [
       "                                       revenu_moyen    predit    erreur\n",
       "departement                                                            \n",
       " L o t - e t - G a r o n n e              -0.536029 -0.384618  0.151411\n",
       " A l l i e r                              -0.630638 -0.458794  0.171844\n",
       " S a ô n e - e t - L o i r e              -0.008801 -0.100488 -0.091687\n",
       " A v e y r o n                            -0.202420 -0.438016 -0.235595\n",
       " I s è r e                                 1.056381  0.990224  0.066156\n",
       " Y o n n e                                -0.224422 -0.114913  0.109509\n",
       " F i n i s t è r e                         0.327283  0.026684  0.300599\n",
       " M e u r t h e - e t - M o s e l l e       0.239274  0.386557 -0.147284\n",
       " L o i r e                                -0.015127 -0.015245 -0.000119\n",
       " H a u t e - S a v o i e                   3.234873  0.967682  2.267192\n",
       " M e u s e                                -0.446370 -0.452038 -0.005668\n",
       " P a s - d e - C a l a i s                -0.660616 -0.063134  0.597483\n",
       " M a r n e                                 0.696645  1.031502 -0.334857\n",
       " A r d e n n e s                          -0.668042 -0.226796  0.441246\n",
       " C a n t a l                              -0.607811 -0.832198 -0.224387\n",
       " E u r e - e t - L o i r                   0.517327  0.318383  0.198944\n",
       " J u r a                                   0.242574 -0.107923  0.134651\n",
       " H é r a u l t                             0.000000  0.662695 -0.662695\n",
       " V a l - d ' O i s e                       1.003850  1.318698 -0.314847\n",
       " B o u c h e s - d u - R h ô n e           0.499175  1.233937 -0.734762\n",
       " N o r d                                  -0.013476  0.900192 -0.886716\n",
       " H a u t e - S a ô n e                    -0.292629 -0.527775 -0.235146\n",
       " I n d r e - e t - L o i r e               0.412816  0.387607  0.025209\n",
       " C h e r                                  -0.292629 -0.246077  0.046552\n",
       " S a r t h e                               0.012926 -0.092260 -0.079333\n",
       " S a v o i e                               1.048130  0.654172  0.393958\n",
       " L o z è r e                              -0.750275 -0.779033 -0.028758\n",
       " L o i r - e t - C h e r                   0.115787 -0.070869  0.044917\n",
       " I n d r e                                -0.705446 -0.621274  0.084172\n",
       " V i e n n e                              -0.144114 -0.146131 -0.002017"
      ]
     },
     "execution_count": 33,
     "metadata": {},
     "output_type": "execute_result"
    }
   ],
   "source": [
    "y_test['predit']=revenu_moyen_prédit\n",
    "y_test['erreur']=np.asarray(resid)\n",
    "y_test"
   ]
  },
  {
   "cell_type": "markdown",
   "metadata": {},
   "source": [
    "L'erreur maximale est commise pour le département suivant. "
   ]
  },
  {
   "cell_type": "code",
   "execution_count": 34,
   "metadata": {},
   "outputs": [
    {
     "data": {
      "text/html": [
       "<div>\n",
       "<style scoped>\n",
       "    .dataframe tbody tr th:only-of-type {\n",
       "        vertical-align: middle;\n",
       "    }\n",
       "\n",
       "    .dataframe tbody tr th {\n",
       "        vertical-align: top;\n",
       "    }\n",
       "\n",
       "    .dataframe thead th {\n",
       "        text-align: right;\n",
       "    }\n",
       "</style>\n",
       "<table border=\"1\" class=\"dataframe\">\n",
       "  <thead>\n",
       "    <tr style=\"text-align: right;\">\n",
       "      <th></th>\n",
       "      <th>revenu_moyen</th>\n",
       "      <th>predit</th>\n",
       "      <th>erreur</th>\n",
       "    </tr>\n",
       "    <tr>\n",
       "      <th>departement</th>\n",
       "      <th></th>\n",
       "      <th></th>\n",
       "      <th></th>\n",
       "    </tr>\n",
       "  </thead>\n",
       "  <tbody>\n",
       "    <tr>\n",
       "      <th>H a u t e - S a v o i e</th>\n",
       "      <td>3.234873</td>\n",
       "      <td>0.967682</td>\n",
       "      <td>2.267192</td>\n",
       "    </tr>\n",
       "  </tbody>\n",
       "</table>\n",
       "</div>"
      ],
      "text/plain": [
       "                           revenu_moyen    predit    erreur\n",
       "departement                                                \n",
       " H a u t e - S a v o i e       3.234873  0.967682  2.267192"
      ]
     },
     "execution_count": 34,
     "metadata": {},
     "output_type": "execute_result"
    }
   ],
   "source": [
    "y_test[ y_test['erreur'] == y_test['erreur'].max() ]"
   ]
  },
  {
   "cell_type": "markdown",
   "metadata": {},
   "source": [
    "Cette erreur très imporatante peut être expliquée par le fait que le modèle ne prenne pas en compte le caractère frontalier avec la Suisse de ce département."
   ]
  },
  {
   "cell_type": "markdown",
   "metadata": {},
   "source": [
    "Pour finir, on peut observer le département pour lequel le salaire moyen prédit est le plus élevé sur les données test."
   ]
  },
  {
   "cell_type": "code",
   "execution_count": 35,
   "metadata": {},
   "outputs": [
    {
     "data": {
      "text/html": [
       "<div>\n",
       "<style scoped>\n",
       "    .dataframe tbody tr th:only-of-type {\n",
       "        vertical-align: middle;\n",
       "    }\n",
       "\n",
       "    .dataframe tbody tr th {\n",
       "        vertical-align: top;\n",
       "    }\n",
       "\n",
       "    .dataframe thead th {\n",
       "        text-align: right;\n",
       "    }\n",
       "</style>\n",
       "<table border=\"1\" class=\"dataframe\">\n",
       "  <thead>\n",
       "    <tr style=\"text-align: right;\">\n",
       "      <th></th>\n",
       "      <th>revenu_moyen</th>\n",
       "      <th>predit</th>\n",
       "      <th>erreur</th>\n",
       "    </tr>\n",
       "    <tr>\n",
       "      <th>departement</th>\n",
       "      <th></th>\n",
       "      <th></th>\n",
       "      <th></th>\n",
       "    </tr>\n",
       "  </thead>\n",
       "  <tbody>\n",
       "    <tr>\n",
       "      <th>V a l - d ' O i s e</th>\n",
       "      <td>1.00385</td>\n",
       "      <td>1.318698</td>\n",
       "      <td>-0.314847</td>\n",
       "    </tr>\n",
       "  </tbody>\n",
       "</table>\n",
       "</div>"
      ],
      "text/plain": [
       "                       revenu_moyen    predit    erreur\n",
       "departement                                            \n",
       " V a l - d ' O i s e        1.00385  1.318698 -0.314847"
      ]
     },
     "execution_count": 35,
     "metadata": {},
     "output_type": "execute_result"
    }
   ],
   "source": [
    "y_test[ y_test['predit'] == y_test['predit'].max() ]"
   ]
  },
  {
   "cell_type": "markdown",
   "metadata": {},
   "source": [
    "## Récapitulatif sur les données "
   ]
  },
  {
   "cell_type": "markdown",
   "metadata": {},
   "source": [
    "Le modèle nous permet de conclure que le département dont on prévoit qu'il aura le revenu moyen le plus élevé est le suivant."
   ]
  },
  {
   "cell_type": "code",
   "execution_count": 36,
   "metadata": {},
   "outputs": [
    {
     "data": {
      "text/html": [
       "<div>\n",
       "<style scoped>\n",
       "    .dataframe tbody tr th:only-of-type {\n",
       "        vertical-align: middle;\n",
       "    }\n",
       "\n",
       "    .dataframe tbody tr th {\n",
       "        vertical-align: top;\n",
       "    }\n",
       "\n",
       "    .dataframe thead th {\n",
       "        text-align: right;\n",
       "    }\n",
       "</style>\n",
       "<table border=\"1\" class=\"dataframe\">\n",
       "  <thead>\n",
       "    <tr style=\"text-align: right;\">\n",
       "      <th></th>\n",
       "      <th>pop_2018</th>\n",
       "      <th>densite</th>\n",
       "      <th>pop_municipale</th>\n",
       "      <th>hab_m</th>\n",
       "      <th>pib_2000</th>\n",
       "      <th>décla</th>\n",
       "      <th>impot</th>\n",
       "      <th>revenu_moyen</th>\n",
       "      <th>predit</th>\n",
       "    </tr>\n",
       "    <tr>\n",
       "      <th>departement</th>\n",
       "      <th></th>\n",
       "      <th></th>\n",
       "      <th></th>\n",
       "      <th></th>\n",
       "      <th></th>\n",
       "      <th></th>\n",
       "      <th></th>\n",
       "      <th></th>\n",
       "      <th></th>\n",
       "    </tr>\n",
       "  </thead>\n",
       "  <tbody>\n",
       "    <tr>\n",
       "      <th>H a u t s - d e - S e i n e</th>\n",
       "      <td>1.923323</td>\n",
       "      <td>84.365462</td>\n",
       "      <td>1.922821</td>\n",
       "      <td>30.119887</td>\n",
       "      <td>10.529566</td>\n",
       "      <td>6.987013</td>\n",
       "      <td>7.40745</td>\n",
       "      <td>5.783828</td>\n",
       "      <td>5.843772</td>\n",
       "    </tr>\n",
       "  </tbody>\n",
       "</table>\n",
       "</div>"
      ],
      "text/plain": [
       "                               pop_2018    densite  pop_municipale      hab_m  \\\n",
       "departement                                                                     \n",
       " H a u t s - d e - S e i n e   1.923323  84.365462        1.922821  30.119887   \n",
       "\n",
       "                                pib_2000     décla    impot  revenu_moyen  \\\n",
       "departement                                                                 \n",
       " H a u t s - d e - S e i n e   10.529566  6.987013  7.40745      5.783828   \n",
       "\n",
       "                                 predit  \n",
       "departement                              \n",
       " H a u t s - d e - S e i n e   5.843772  "
      ]
     },
     "execution_count": 36,
     "metadata": {},
     "output_type": "execute_result"
    }
   ],
   "source": [
    "data['predit']=mod_ridge.best_estimator_.predict(data[X])\n",
    "data[ data['predit'] == data['predit'].max() ]"
   ]
  },
  {
   "cell_type": "markdown",
   "metadata": {},
   "source": [
    "## Réponse à la problématique"
   ]
  },
  {
   "cell_type": "markdown",
   "metadata": {},
   "source": [
    "Au cours de notre étude, nous avons donc commencé par réaliser un web scraping des données sur diverses pages web et les avons condensées en un data frame. Par la suite, nous avons traité le data frame afin de le rendre exploitable. Nous avons terminé par réaliser la phase de machine learning au cours de laquelle nous avons entraîné plusieurs modèles sur nos données afin de trouver le plus performant. \n",
    "\n",
    "Pour conclure, on peut dire que c'est le modèle Ridge qui semble être le meilleur. Sur nos données test, nous obtenons une moyenne des erreurs au carré de : 0,28 inférieure à 0,3 et un R2 de : 0,54 donc supérieur à 0,5 ce qui répond à nos objectifs.\n",
    "\n",
    "Selon le modèle, les coefficients les plus significatifs sont le montant des impôts et le revenu déclaré et sont tous les deux positifs. Cela semble assez logique. Les variables *densite* et *hab_m* semblent avoir un très léger effet négatif sur la valeur du revenu moyen. \n",
    "\n",
    "Selon notre modèle, le département qui fournit le plus haut salaire moyen est le département des Hauts-de-Seine. Globalement, on comprend bien que la région parisienne dans son ensemble fournit les meilleurs salaires car le niveau des prix est plus élevé qu'ailleurs en France. \n",
    "\n",
    "On peut mettre en lumière quelques unes des faiblesses de notre étude. D'abord, nous avons très peu de données. Nous avons malheureusement été amenés à renoncer à certaines données au cours de la phase de web scraping puis au cours de la phase d'unification des diverses sources. De plus, les disparités économiques géographiques qui existent en France se font sentir dans nos analyses. La complexité du cas parisien n'a pas pu être prise en compte dans notre étude car Paris est un département trop particulier par rapport aux autres de telle sorte que l'intégrer à notre étude démultiplierait les erreurs. De même, le caractère frontalier de certains département n'est pas pris en compte. \n",
    "\n",
    "En guise d'ouverture, on peut proposer de tenter de répondre à la même problématique mais cette fois-ci dans plusieurs villes de France. Cela nous permettrait d'avoir une base de données plus conséquente et cela pourrait réduire l'effet que les inégalités géographiques exercent sur notre étude."
   ]
  },
  {
   "cell_type": "code",
   "execution_count": null,
   "metadata": {},
   "outputs": [],
   "source": []
  },
  {
   "cell_type": "code",
   "execution_count": null,
   "metadata": {},
   "outputs": [],
   "source": []
  },
  {
   "cell_type": "code",
   "execution_count": null,
   "metadata": {},
   "outputs": [],
   "source": []
  },
  {
   "cell_type": "code",
   "execution_count": null,
   "metadata": {},
   "outputs": [],
   "source": []
  },
  {
   "cell_type": "code",
   "execution_count": null,
   "metadata": {},
   "outputs": [],
   "source": []
  }
 ],
 "metadata": {
  "kernelspec": {
   "display_name": "Python 3",
   "language": "python",
   "name": "python3"
  },
  "language_info": {
   "codemirror_mode": {
    "name": "ipython",
    "version": 3
   },
   "file_extension": ".py",
   "mimetype": "text/x-python",
   "name": "python",
   "nbconvert_exporter": "python",
   "pygments_lexer": "ipython3",
   "version": "3.8.5"
  }
 },
 "nbformat": 4,
 "nbformat_minor": 4
}
