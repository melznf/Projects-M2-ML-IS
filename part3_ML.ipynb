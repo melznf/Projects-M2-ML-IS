{
 "cells": [
  {
   "cell_type": "markdown",
   "metadata": {},
   "source": [
    "Dans les deux phases précédentes, nous avons récupéré des données provenant de plusieurs sources internet et nous les avons préparées pour la phase présente. "
   ]
  },
  {
   "cell_type": "markdown",
   "metadata": {},
   "source": [
    "# Apprentissage"
   ]
  },
  {
   "cell_type": "markdown",
   "metadata": {},
   "source": [
    "**Dans cette partie, nous allons essayer de développer un modèle qui prédise avec le moins d'écart avec la réalité possible le revenu moyen dans un département.**"
   ]
  },
  {
   "cell_type": "code",
   "execution_count": 1,
   "metadata": {},
   "outputs": [],
   "source": [
    "import pandas as pd\n",
    "import numpy as np\n",
    "import matplotlib.pyplot as plt\n",
    "import sklearn\n",
    "import script as sc\n",
    "import seaborn as sn\n",
    "plt.rcParams[\"figure.figsize\"] = (6,6)"
   ]
  },
  {
   "cell_type": "code",
   "execution_count": 2,
   "metadata": {},
   "outputs": [],
   "source": [
    "from sklearn.neighbors import RadiusNeighborsRegressor\n",
    "from sklearn.neighbors import KNeighborsRegressor\n",
    "\n",
    "from sklearn.pipeline import Pipeline\n",
    "\n",
    "from sklearn.preprocessing import PolynomialFeatures\n",
    "\n",
    "from sklearn.linear_model import LinearRegression, Ridge, RidgeCV, Lasso, LassoLars\n",
    "\n",
    "from sklearn.ensemble import RandomForestRegressor\n",
    "from sklearn.ensemble import BaggingRegressor\n",
    "from sklearn.ensemble import BaggingRegressor\n",
    "from sklearn.ensemble import GradientBoostingRegressor\n",
    "from sklearn.ensemble import AdaBoostRegressor\n",
    "from sklearn.ensemble import GradientBoostingRegressor\n",
    "\n",
    "from sklearn.tree import DecisionTreeRegressor\n",
    "\n",
    "from sklearn.model_selection import train_test_split, cross_val_score\n",
    "from sklearn.model_selection import learning_curve\n",
    "from sklearn.model_selection import validation_curve\n",
    "\n",
    "from sklearn.metrics import max_error\n",
    "from sklearn.metrics import r2_score\n",
    "from sklearn.metrics import max_error\n",
    "from sklearn.metrics import mean_squared_error\n",
    "from sklearn.metrics import mean_absolute_error"
   ]
  },
  {
   "cell_type": "code",
   "execution_count": 3,
   "metadata": {},
   "outputs": [],
   "source": [
    "from script import analyse, df_y, verif_overfitting, verif_apprentissage, metriques, data, valeurs_predites, coefficients, df_pred, X_train, y_train, X_test, y_test "
   ]
  },
  {
   "cell_type": "code",
   "execution_count": 4,
   "metadata": {},
   "outputs": [],
   "source": [
    "data = pd.read_csv(\"df_final.csv\")"
   ]
  },
  {
   "cell_type": "markdown",
   "metadata": {},
   "source": [
    "## Récupération du data frame "
   ]
  },
  {
   "cell_type": "markdown",
   "metadata": {},
   "source": [
    "La **variable à expliquer est le revenu moyen** ($y$ un vecteur de dimension $n\\times 1$). On se sert des autres variables pour réaliser les prédictions ($X$ une matrice de dimension $n\\times p$). "
   ]
  },
  {
   "cell_type": "code",
   "execution_count": 5,
   "metadata": {},
   "outputs": [
    {
     "data": {
      "text/html": [
       "<div>\n",
       "<style scoped>\n",
       "    .dataframe tbody tr th:only-of-type {\n",
       "        vertical-align: middle;\n",
       "    }\n",
       "\n",
       "    .dataframe tbody tr th {\n",
       "        vertical-align: top;\n",
       "    }\n",
       "\n",
       "    .dataframe thead th {\n",
       "        text-align: right;\n",
       "    }\n",
       "</style>\n",
       "<table border=\"1\" class=\"dataframe\">\n",
       "  <thead>\n",
       "    <tr style=\"text-align: right;\">\n",
       "      <th></th>\n",
       "      <th>pop_2018</th>\n",
       "      <th>pop_municipale</th>\n",
       "      <th>pib_2005</th>\n",
       "      <th>pib_2000</th>\n",
       "      <th>décla</th>\n",
       "      <th>taxe_om</th>\n",
       "      <th>impot</th>\n",
       "      <th>revenu_moyen</th>\n",
       "    </tr>\n",
       "    <tr>\n",
       "      <th>departement</th>\n",
       "      <th></th>\n",
       "      <th></th>\n",
       "      <th></th>\n",
       "      <th></th>\n",
       "      <th></th>\n",
       "      <th></th>\n",
       "      <th></th>\n",
       "      <th></th>\n",
       "    </tr>\n",
       "  </thead>\n",
       "  <tbody>\n",
       "    <tr>\n",
       "      <th>S e i n e - M a r i t i m e</th>\n",
       "      <td>1.400178</td>\n",
       "      <td>1.467691</td>\n",
       "      <td>0.804694</td>\n",
       "      <td>0.813841</td>\n",
       "      <td>0.181380</td>\n",
       "      <td>0.402477</td>\n",
       "      <td>0.355252</td>\n",
       "      <td>0.818381</td>\n",
       "    </tr>\n",
       "    <tr>\n",
       "      <th>M a y e n n e</th>\n",
       "      <td>-0.448801</td>\n",
       "      <td>-0.467665</td>\n",
       "      <td>0.186693</td>\n",
       "      <td>0.335703</td>\n",
       "      <td>-0.036772</td>\n",
       "      <td>1.836945</td>\n",
       "      <td>-0.742385</td>\n",
       "      <td>-0.442013</td>\n",
       "    </tr>\n",
       "    <tr>\n",
       "      <th>A i n</th>\n",
       "      <td>0.214849</td>\n",
       "      <td>0.140654</td>\n",
       "      <td>0.000861</td>\n",
       "      <td>0.104687</td>\n",
       "      <td>1.805399</td>\n",
       "      <td>-0.355005</td>\n",
       "      <td>0.711642</td>\n",
       "      <td>0.665208</td>\n",
       "    </tr>\n",
       "    <tr>\n",
       "      <th>H a u t e - G a r o n n e</th>\n",
       "      <td>1.643362</td>\n",
       "      <td>1.486023</td>\n",
       "      <td>1.512274</td>\n",
       "      <td>1.373262</td>\n",
       "      <td>1.137722</td>\n",
       "      <td>-0.565531</td>\n",
       "      <td>1.300313</td>\n",
       "      <td>2.070022</td>\n",
       "    </tr>\n",
       "    <tr>\n",
       "      <th>E u r e - e t - L o i r</th>\n",
       "      <td>-0.205376</td>\n",
       "      <td>-0.214773</td>\n",
       "      <td>-0.231912</td>\n",
       "      <td>0.105945</td>\n",
       "      <td>0.511638</td>\n",
       "      <td>0.542828</td>\n",
       "      <td>0.077427</td>\n",
       "      <td>0.752735</td>\n",
       "    </tr>\n",
       "    <tr>\n",
       "      <th>...</th>\n",
       "      <td>...</td>\n",
       "      <td>...</td>\n",
       "      <td>...</td>\n",
       "      <td>...</td>\n",
       "      <td>...</td>\n",
       "      <td>...</td>\n",
       "      <td>...</td>\n",
       "      <td>...</td>\n",
       "    </tr>\n",
       "    <tr>\n",
       "      <th>J u r a</th>\n",
       "      <td>-0.541051</td>\n",
       "      <td>-0.561408</td>\n",
       "      <td>-0.071275</td>\n",
       "      <td>0.154514</td>\n",
       "      <td>0.236469</td>\n",
       "      <td>-0.260062</td>\n",
       "      <td>-0.306291</td>\n",
       "      <td>-0.135667</td>\n",
       "    </tr>\n",
       "    <tr>\n",
       "      <th>A r i è g e</th>\n",
       "      <td>-0.748945</td>\n",
       "      <td>-0.784833</td>\n",
       "      <td>-0.659776</td>\n",
       "      <td>-0.850582</td>\n",
       "      <td>-1.014874</td>\n",
       "      <td>-0.247678</td>\n",
       "      <td>-0.965557</td>\n",
       "      <td>-0.481400</td>\n",
       "    </tr>\n",
       "    <tr>\n",
       "      <th>C h e r</th>\n",
       "      <td>-0.455964</td>\n",
       "      <td>-0.458108</td>\n",
       "      <td>-0.123600</td>\n",
       "      <td>-0.136647</td>\n",
       "      <td>-0.299546</td>\n",
       "      <td>-0.216718</td>\n",
       "      <td>-0.480501</td>\n",
       "      <td>-0.131291</td>\n",
       "    </tr>\n",
       "    <tr>\n",
       "      <th>L a n d e s</th>\n",
       "      <td>-0.247551</td>\n",
       "      <td>-0.301855</td>\n",
       "      <td>-0.020887</td>\n",
       "      <td>-0.025417</td>\n",
       "      <td>0.369784</td>\n",
       "      <td>-0.055728</td>\n",
       "      <td>0.004555</td>\n",
       "      <td>-0.341357</td>\n",
       "    </tr>\n",
       "    <tr>\n",
       "      <th>A i s n e</th>\n",
       "      <td>-0.007929</td>\n",
       "      <td>0.012502</td>\n",
       "      <td>-0.632644</td>\n",
       "      <td>-0.489462</td>\n",
       "      <td>-0.643851</td>\n",
       "      <td>-0.369453</td>\n",
       "      <td>-0.237973</td>\n",
       "      <td>-0.153173</td>\n",
       "    </tr>\n",
       "  </tbody>\n",
       "</table>\n",
       "<p>91 rows × 8 columns</p>\n",
       "</div>"
      ],
      "text/plain": [
       "                               pop_2018  pop_municipale  pib_2005  pib_2000  \\\n",
       "departement                                                                   \n",
       " S e i n e - M a r i t i m e   1.400178        1.467691  0.804694  0.813841   \n",
       " M a y e n n e                -0.448801       -0.467665  0.186693  0.335703   \n",
       " A i n                         0.214849        0.140654  0.000861  0.104687   \n",
       " H a u t e - G a r o n n e     1.643362        1.486023  1.512274  1.373262   \n",
       " E u r e - e t - L o i r      -0.205376       -0.214773 -0.231912  0.105945   \n",
       "...                                 ...             ...       ...       ...   \n",
       " J u r a                      -0.541051       -0.561408 -0.071275  0.154514   \n",
       " A r i è g e                  -0.748945       -0.784833 -0.659776 -0.850582   \n",
       " C h e r                      -0.455964       -0.458108 -0.123600 -0.136647   \n",
       " L a n d e s                  -0.247551       -0.301855 -0.020887 -0.025417   \n",
       " A i s n e                    -0.007929        0.012502 -0.632644 -0.489462   \n",
       "\n",
       "                                  décla   taxe_om     impot  revenu_moyen  \n",
       "departement                                                                \n",
       " S e i n e - M a r i t i m e   0.181380  0.402477  0.355252      0.818381  \n",
       " M a y e n n e                -0.036772  1.836945 -0.742385     -0.442013  \n",
       " A i n                         1.805399 -0.355005  0.711642      0.665208  \n",
       " H a u t e - G a r o n n e     1.137722 -0.565531  1.300313      2.070022  \n",
       " E u r e - e t - L o i r       0.511638  0.542828  0.077427      0.752735  \n",
       "...                                 ...       ...       ...           ...  \n",
       " J u r a                       0.236469 -0.260062 -0.306291     -0.135667  \n",
       " A r i è g e                  -1.014874 -0.247678 -0.965557     -0.481400  \n",
       " C h e r                      -0.299546 -0.216718 -0.480501     -0.131291  \n",
       " L a n d e s                   0.369784 -0.055728  0.004555     -0.341357  \n",
       " A i s n e                    -0.643851 -0.369453 -0.237973     -0.153173  \n",
       "\n",
       "[91 rows x 8 columns]"
      ]
     },
     "execution_count": 5,
     "metadata": {},
     "output_type": "execute_result"
    }
   ],
   "source": [
    "data=data.set_index('departement')\n",
    "X=['pop_2018' , 'densite', 'pop_municipale', 'hab_m', 'pib_2000', 'décla','impot']\n",
    "y=['revenu_moyen']\n",
    "data"
   ]
  },
  {
   "cell_type": "markdown",
   "metadata": {},
   "source": [
    "Comme dit précédemment, nous avons :\n",
    "\n",
    "* Une variable dépendante $y$ quantitative et continue, \n",
    "* Toutes nos variables explicatives $X$ sont quantitatives également,\n",
    "* Nous avons peu de données et elles sont structurées et normales,\n",
    "* Il existe des points extrêmes dans notre échantillon, \n",
    "* Certaines de nos variables sont corrélées.\n",
    "\n",
    "Nous allons donc naturellement nous orienter vers des méthodes de **régression**, plutôt simples. "
   ]
  },
  {
   "cell_type": "markdown",
   "metadata": {},
   "source": [
    "## Réalisation de plusieurs modèles "
   ]
  },
  {
   "cell_type": "markdown",
   "metadata": {},
   "source": [
    "* On commence par des régressions simples pour aller vers des méthodes ensemblistes plus complexes. \n",
    "* On propose plusieurs modèles qu'on essaye de tuner grâce à GridSearchCV.  \n",
    "* Les modèles sont optimisés selon la métrique de la moyenne de l'erreur au carré. \n",
    "\n",
    "**Plus précisément, on cherche à élaborer un modèle avec une moyenne des erreurs au carré inférieure à 0,3 et un R2 supérieur à 0,7.**\n",
    "\n",
    "La procédure est la suivante, on divise notre base de données en deux échantillons : \n",
    "* un échantillon de test \n",
    "* un échantillon d'apprentissage (2/3 des données soit environ 60 individus).\n",
    "\n",
    "Ensuite, selon le modèle, on propose un **dictionnaire d'hyperparamètres qui sera utilisé pour chercher le meilleur modèle parmi toutes les combinaisons d'hyperparamètres**.\n",
    "\n",
    "Les métriques observées seront : \n",
    "* NMSE : La moyenne des erreurs au carré :\n",
    "$$ NMSE(y, \\hat{y})=- \\frac{1}{n}\\sum_{i=1}^{n}(y_{i}-\\hat{y}_{i})^2$$\n",
    "\n",
    "* NMAE : La moyenne des écarts absolus dont la formule est :\n",
    "$$ NMAE(y, \\hat{y})=- \\frac{1}{n}\\sum_{i=1}^{n}|y_{i}-\\hat{y}_{i}|$$\n",
    "\n",
    "* MaxError : L'erreur maximale qui est l'erreur maximale commise par le modèle entre $y_i$ et $\\hat{y}_i$.\n",
    "\n",
    "* R2 : Le coefficient de déterminantion nous donne une indication de l'adaptation du modèle au données.\n",
    "$$R2(y, \\hat{y})=1-\\frac{\\sum_{i=1}^{n}(y_{i}-\\hat{y}_{i})^2}{\\sum_{i=1}^{n}(y_{i}-\\bar{y}_{i})^2}$$"
   ]
  },
  {
   "cell_type": "markdown",
   "metadata": {},
   "source": [
    "### Régression linéaire ou polynomiale"
   ]
  },
  {
   "cell_type": "markdown",
   "metadata": {},
   "source": [
    "La régression tente de trouver des coefficients tels que\n",
    "$y=f(X)$. Plus précisément, on cherche les $\\beta_i$ tels que $$y=\\alpha + \\beta_1 X_1 ... + \\beta_n X_n +\\epsilon$$ où $n$ est le nombre de variables, $\\alpha$ la constante et $\\epsilon$ l'erreur du modèle. On cherche à minimiser $\\epsilon$. La fonction utilisée pour cela est LinearRegression de Sklearn."
   ]
  },
  {
   "cell_type": "markdown",
   "metadata": {},
   "source": [
    "On donne la possibilité d'avoir une régression polynomiale en utilisant le **pipeline** suivant :\n",
    "\n",
    "`` \" Pipeline([('scaler', PolynomialFeatures()), ('lin_reg', LinearRegression())]) \" ``\n"
   ]
  },
  {
   "cell_type": "markdown",
   "metadata": {},
   "source": [
    "Les **paramètres testés** par GridSearchCV sont :\n",
    "\n",
    "``param_grid={'scaler__interaction_only':['False','True'],\n",
    "           'scaler__degree':[1, 2],\n",
    "           'lin_reg__normalize':['False','True'],\n",
    "           'scaler__include_bias':['False','True'],\n",
    "           'lin_reg__fit_intercept':['False', 'True']}``"
   ]
  },
  {
   "cell_type": "code",
   "execution_count": 6,
   "metadata": {},
   "outputs": [
    {
     "name": "stdout",
     "output_type": "stream",
     "text": [
      "Les métriques obtenues sont :\n",
      "NMAE : -0.36721612977343754\n",
      "MaxErr : -1.4603987433845873\n",
      "R2 : 0.7442939792952454\n",
      "NMSE : -0.11587210591898778\n"
     ]
    }
   ],
   "source": [
    "print(\"Les métriques obtenues sont :\")\n",
    "mod_linreg, best_para_linreg, best_score_linreg = analyse('Lin_reg', data)"
   ]
  },
  {
   "cell_type": "code",
   "execution_count": 7,
   "metadata": {},
   "outputs": [
    {
     "name": "stdout",
     "output_type": "stream",
     "text": [
      "Les meilleurs paramètres sont :\n"
     ]
    },
    {
     "data": {
      "text/plain": [
       "{'lin_reg__fit_intercept': 'False',\n",
       " 'lin_reg__normalize': 'False',\n",
       " 'scaler__degree': 1,\n",
       " 'scaler__include_bias': 'False',\n",
       " 'scaler__interaction_only': 'False'}"
      ]
     },
     "execution_count": 7,
     "metadata": {},
     "output_type": "execute_result"
    }
   ],
   "source": [
    "print(\"Les meilleurs paramètres sont :\")\n",
    "best_para_linreg"
   ]
  },
  {
   "cell_type": "markdown",
   "metadata": {},
   "source": [
    "### Régression Ridge"
   ]
  },
  {
   "cell_type": "markdown",
   "metadata": {},
   "source": [
    "Nous passons maintenant à une regression Ridge qui est une régression linéaire avec une pénalisation quadratique sur les coefficients.  L'expression numérique du problème d'optimisation peut s'écrire de la sorte : \n",
    "$$min_{\\beta} E(\\alpha, \\beta)=\\sum_{i=1}^{n}(y_{i}-X_{i}\\beta)^{2}+\\alpha||\\beta||^2$$"
   ]
  },
  {
   "cell_type": "markdown",
   "metadata": {},
   "source": [
    "Nous testons les **hyperparamètres** suivants dans la fonction GridSearchCV :\n",
    "\n",
    "``param_grid2={'alpha':[0.01, 0.05, 0.1, 0.5, 1],\n",
    "              'fit_intercept': ['True',  'False'],\n",
    "              'normalize': ['True',  'False'],\n",
    "              'copy_X': ['True',  'False'],\n",
    "              'max_iter':[500, 1000, 1500],\n",
    "              'solver':['auto', 'svd', 'cholesky', 'lsqr', 'sparse_cg', 'sag', 'saga']}``"
   ]
  },
  {
   "cell_type": "code",
   "execution_count": 8,
   "metadata": {},
   "outputs": [
    {
     "name": "stdout",
     "output_type": "stream",
     "text": [
      "Les métriques obtenues sont : \n",
      "NMAE : -0.3234689067558602\n",
      "MaxErr : -1.4091960957111747\n",
      "R2 : 0.7692020700563094\n",
      "NMSE : -0.14531119404902074\n"
     ]
    }
   ],
   "source": [
    "print(\"Les métriques obtenues sont : \")\n",
    "mod_ridge,best_para_ridge, best_score_ridge = analyse('Ridge', data)"
   ]
  },
  {
   "cell_type": "code",
   "execution_count": 9,
   "metadata": {},
   "outputs": [
    {
     "name": "stdout",
     "output_type": "stream",
     "text": [
      "Les meilleurs paramètres sont : \n"
     ]
    },
    {
     "data": {
      "text/plain": [
       "{'alpha': 0.5,\n",
       " 'copy_X': 'False',\n",
       " 'fit_intercept': 'False',\n",
       " 'max_iter': 1500,\n",
       " 'normalize': 'True',\n",
       " 'solver': 'saga'}"
      ]
     },
     "execution_count": 9,
     "metadata": {},
     "output_type": "execute_result"
    }
   ],
   "source": [
    "print(\"Les meilleurs paramètres sont : \")\n",
    "best_para_ridge"
   ]
  },
  {
   "cell_type": "markdown",
   "metadata": {},
   "source": [
    "### Régression Lasso"
   ]
  },
  {
   "cell_type": "markdown",
   "metadata": {},
   "source": [
    "Dans la régression Lasso, les coefficients sont obtenus en minimisant la somme des carrés des résidus mais avec une pénalisation en plus. Le problème de minimisation s'écrit comme cela :\n",
    "\n",
    "$$ min_{\\beta_1...\\beta_p}\\frac{1}{2}\\sum_{i=1}^{n}\\bigg(y_i-\\beta_{0}-\\sum_{j=1}^{p}\\beta_{j}x_{i,j}\\bigg)$$\n",
    "\n",
    "sous la contrainte $\\sum_{j=1}^{p}|\\beta_j|\\leq t$. Le paramètre $t$ contrôle donc le niveau de régularisation des coefficients estimés. Il est possible que les coefficients associés à certaines variables soient nuls. "
   ]
  },
  {
   "cell_type": "markdown",
   "metadata": {},
   "source": [
    "Les **hyperparamètres testés** par GridSearchCV sont : \n",
    "    \n",
    "``param_grid3={'fit_intercept':['False','True'],\n",
    "           'alpha':[0.01, 0.05, 0.1, 0.5, 1],\n",
    "           'normalize':['False','True'],\n",
    "           'positive':['False', 'True'],\n",
    "           'random_state':[0],\n",
    "           'selection':['cyclic', 'random'],\n",
    "           'copy_X':['False','True'],\n",
    "           'warm_start':['False','True']}``"
   ]
  },
  {
   "cell_type": "code",
   "execution_count": 10,
   "metadata": {},
   "outputs": [
    {
     "name": "stdout",
     "output_type": "stream",
     "text": [
      "Les métriques obtenues sont : \n",
      "NMAE : -0.33170488883893967\n",
      "MaxErr : -1.2534290344146441\n",
      "R2 : 0.7953899532007335\n",
      "NMSE : -0.1266301473635028\n"
     ]
    }
   ],
   "source": [
    "print(\"Les métriques obtenues sont : \")\n",
    "mod_lasso, best_para_lasso, best_score_lasso = analyse('Lasso', data)"
   ]
  },
  {
   "cell_type": "code",
   "execution_count": 11,
   "metadata": {},
   "outputs": [
    {
     "name": "stdout",
     "output_type": "stream",
     "text": [
      "Les meilleurs paramètres sont : \n"
     ]
    },
    {
     "data": {
      "text/plain": [
       "{'alpha': 0.01,\n",
       " 'copy_X': 'False',\n",
       " 'fit_intercept': 'False',\n",
       " 'normalize': 'False',\n",
       " 'positive': 'False',\n",
       " 'random_state': 0,\n",
       " 'selection': 'cyclic',\n",
       " 'warm_start': 'False'}"
      ]
     },
     "execution_count": 11,
     "metadata": {},
     "output_type": "execute_result"
    }
   ],
   "source": [
    "print(\"Les meilleurs paramètres sont : \")\n",
    "best_para_lasso"
   ]
  },
  {
   "cell_type": "markdown",
   "metadata": {},
   "source": [
    "### Méthodes ensemblistes "
   ]
  },
  {
   "cell_type": "markdown",
   "metadata": {},
   "source": [
    "#### Forêt aléatoire"
   ]
  },
  {
   "cell_type": "markdown",
   "metadata": {},
   "source": [
    "Les **paramètres testés** par GridSearchCV sont les suivants :\n",
    "    \n",
    "``param_grid6={'n_estimators': [5, 8, 10, 25, 50],\n",
    "          'max_depth': [2, 3, 4],\n",
    "          'max_features':[2, 'auto', 'sqrt', 'log2'],\n",
    "          'min_samples_split': [2, 3, 4],\n",
    "          'bootstrap': ['True', 'False'],\n",
    "          'max_samples':[2, 3, 4],\n",
    "          'warm_start':['False','True']}``"
   ]
  },
  {
   "cell_type": "code",
   "execution_count": 12,
   "metadata": {},
   "outputs": [
    {
     "name": "stdout",
     "output_type": "stream",
     "text": [
      "Les métriques obtenues sont : \n",
      "NMSE : -1.0041030115147873\n",
      "MAE : 0.511731096523219\n",
      "R2 : 0.28139643439337725\n",
      "MaxError : 6.144201312910283\n"
     ]
    }
   ],
   "source": [
    "print(\"Les métriques obtenues sont : \")\n",
    "mod_RandF, best_para_RandF, best_score_RandF = analyse('RandF', data)"
   ]
  },
  {
   "cell_type": "code",
   "execution_count": 13,
   "metadata": {},
   "outputs": [
    {
     "name": "stdout",
     "output_type": "stream",
     "text": [
      "Les meilleurs paramètres sont : \n"
     ]
    },
    {
     "data": {
      "text/plain": [
       "{'bootstrap': 'False',\n",
       " 'max_depth': 3,\n",
       " 'max_features': 5,\n",
       " 'max_samples': 4,\n",
       " 'min_samples_split': 4,\n",
       " 'n_estimators': 5,\n",
       " 'warm_start': 'True'}"
      ]
     },
     "execution_count": 13,
     "metadata": {},
     "output_type": "execute_result"
    }
   ],
   "source": [
    "print(\"Les meilleurs paramètres sont : \")\n",
    "best_para_RandF"
   ]
  },
  {
   "cell_type": "markdown",
   "metadata": {},
   "source": [
    "#### AdaBoost"
   ]
  },
  {
   "cell_type": "markdown",
   "metadata": {},
   "source": [
    "Les **hyperparamètres testés** par GridSearchCV sont :\n",
    "    \n",
    "``param_grid7={'n_estimators': [5, 8, 10, 25, 50],\n",
    "          'base_estimator':[DecisionTreeRegressor(), LinearRegression()],\n",
    "          'learning_rate': [0.01, 0.05, 0.1, 0.5, 1],\n",
    "          'loss':['linear', 'square', 'exponential']}``"
   ]
  },
  {
   "cell_type": "code",
   "execution_count": 14,
   "metadata": {},
   "outputs": [
    {
     "name": "stdout",
     "output_type": "stream",
     "text": [
      "Les métriques obtenues sont : \n",
      "NMAE : -0.4328117006447698\n",
      "MaxErr : -2.8864390540898683\n",
      "R2 : 0.6782642930707221\n",
      "NMSE : -0.11799904797192781\n"
     ]
    }
   ],
   "source": [
    "print(\"Les métriques obtenues sont : \")\n",
    "mod_AdaBoost, best_para_AdaBoost, best_score_AdaBoost = analyse('AdaBoost', data)"
   ]
  },
  {
   "cell_type": "code",
   "execution_count": 15,
   "metadata": {},
   "outputs": [
    {
     "name": "stdout",
     "output_type": "stream",
     "text": [
      "Les meilleurs paramètres sont : \n"
     ]
    },
    {
     "data": {
      "text/plain": [
       "{'base_estimator': LinearRegression(),\n",
       " 'learning_rate': 0.1,\n",
       " 'loss': 'linear',\n",
       " 'n_estimators': 8}"
      ]
     },
     "execution_count": 15,
     "metadata": {},
     "output_type": "execute_result"
    }
   ],
   "source": [
    "print(\"Les meilleurs paramètres sont : \")\n",
    "best_para_AdaBoost"
   ]
  },
  {
   "cell_type": "markdown",
   "metadata": {},
   "source": [
    "#### Bagging"
   ]
  },
  {
   "cell_type": "markdown",
   "metadata": {},
   "source": [
    "La technique de bagging est un estimateur ensembliste qui permet d'entraîner plusieurs modèles faibles sur plusieurs échantillons des données originelles et d'en aggréger les prédictions individuelles pour former une prédiction finale. Comme pour le boosting, cet algorithme peut se baser sur d'autres estimateurs faibles comme les arbres de décision. "
   ]
  },
  {
   "cell_type": "markdown",
   "metadata": {},
   "source": [
    "Les **hyperparamètres testés** par GridSearchCV sont les suivants :\n",
    "\n",
    "``param_grid8={'warm_start': ['False', 'True'],\n",
    "          'base_estimator':[DecisionTreeRegressor(), LinearRegression()],\n",
    "          'n_estimators':[5, 8, 10, 25, 50],\n",
    "          'bootstrap':['True', 'False'],\n",
    "          'max_features': [0.5, 1],\n",
    "          'n_jobs':[1, 2, 3],\n",
    "          'random_state':[0]}``"
   ]
  },
  {
   "cell_type": "code",
   "execution_count": 16,
   "metadata": {},
   "outputs": [
    {
     "name": "stdout",
     "output_type": "stream",
     "text": [
      "Les métriques obtenues sont : \n",
      "MAE : 0.2575353004495904\n",
      "R2 : 0.910240331718206\n",
      "MaxError : 1.216567973938563\n",
      "NMSE : -0.12542096581198364\n"
     ]
    }
   ],
   "source": [
    "print(\"Les métriques obtenues sont : \")\n",
    "mod_Bagging, best_para_Bagging, best_score_Bagging = analyse('Bagging', data)"
   ]
  },
  {
   "cell_type": "code",
   "execution_count": 17,
   "metadata": {},
   "outputs": [
    {
     "name": "stdout",
     "output_type": "stream",
     "text": [
      "Les meilleurs paramètres sont : \n"
     ]
    },
    {
     "data": {
      "text/plain": [
       "{'base_estimator': LinearRegression(),\n",
       " 'bootstrap': 'True',\n",
       " 'max_features': 0.5,\n",
       " 'n_estimators': 10,\n",
       " 'n_jobs': 1,\n",
       " 'random_state': 0,\n",
       " 'warm_start': 'False'}"
      ]
     },
     "execution_count": 17,
     "metadata": {},
     "output_type": "execute_result"
    }
   ],
   "source": [
    "print(\"Les meilleurs paramètres sont : \")\n",
    "best_para_Bagging"
   ]
  },
  {
   "cell_type": "markdown",
   "metadata": {},
   "source": [
    "On peut conclure que **les modèles les plus simples ne sont pas forcément les plus mauvais**. \n",
    "\n",
    "Parmis les modèles qui obtiennent les meilleures métriques, on a les **régressions Ridge et Lasso et le bagging**."
   ]
  },
  {
   "cell_type": "markdown",
   "metadata": {},
   "source": [
    "## Choix du meilleur modèle "
   ]
  },
  {
   "cell_type": "markdown",
   "metadata": {},
   "source": [
    "Nous allons observer quelques graphiques afin de valider notre choix de modèle final."
   ]
  },
  {
   "cell_type": "markdown",
   "metadata": {},
   "source": [
    "### Overfitting"
   ]
  },
  {
   "cell_type": "markdown",
   "metadata": {},
   "source": [
    "On essaye de **détecter le surapprentissage dans les modèles Ridge, Lasso et Bagging**.\n",
    "* On utilise pour cela la fonction validation_curve avec cinq validations croisées. \n",
    "* Si la courbe correspondant au score d'entraînement et celle correspondant au score de validation sont toutes les deux basses, alors l'estimateur est en sous-apprentissage.\n",
    "* Si le score d'apprentissage est très haut et le score de validation est bas, alors on en en situation de surapprentissage, sinon, c'est que le modèle marche bien.\n",
    "* La métrique considérée est la moyenne des erreurs au carré."
   ]
  },
  {
   "cell_type": "markdown",
   "metadata": {},
   "source": [
    "#### Régression Lasso"
   ]
  },
  {
   "cell_type": "code",
   "execution_count": 18,
   "metadata": {},
   "outputs": [
    {
     "data": {
      "image/png": "[encoded data removed]",
      "text/plain": [
       "<Figure size 432x432 with 1 Axes>"
      ]
     },
     "metadata": {
      "needs_background": "light"
     },
     "output_type": "display_data"
    }
   ],
   "source": [
    "train_scores_lasso, valid_scores_lasso = verif_overfitting('Lasso', mod_lasso.best_estimator_, data)"
   ]
  },
  {
   "cell_type": "markdown",
   "metadata": {},
   "source": [
    "On voit qu'il y a **un peu d'overfitting**."
   ]
  },
  {
   "cell_type": "markdown",
   "metadata": {},
   "source": [
    "#### Bagging"
   ]
  },
  {
   "cell_type": "code",
   "execution_count": 19,
   "metadata": {},
   "outputs": [
    {
     "data": {
      "image/png": "[encoded data removed]",
      "text/plain": [
       "<Figure size 432x432 with 1 Axes>"
      ]
     },
     "metadata": {
      "needs_background": "light"
     },
     "output_type": "display_data"
    }
   ],
   "source": [
    "train_scores_bagging, valid_scores_bagging = verif_overfitting('Bagging', mod_Bagging.best_estimator_, data)"
   ]
  },
  {
   "cell_type": "markdown",
   "metadata": {},
   "source": [
    "Sans surprise, on observe qu'il y a de **l'overfitting mais pas tant que cela**. "
   ]
  },
  {
   "cell_type": "markdown",
   "metadata": {},
   "source": [
    "#### Régression Ridge"
   ]
  },
  {
   "cell_type": "code",
   "execution_count": 20,
   "metadata": {},
   "outputs": [
    {
     "data": {
      "image/png": "[encoded data removed]",
      "text/plain": [
       "<Figure size 432x432 with 1 Axes>"
      ]
     },
     "metadata": {
      "needs_background": "light"
     },
     "output_type": "display_data"
    }
   ],
   "source": [
    "train_scores_ridge, valid_scores_ridge = verif_overfitting('Ridge', mod_ridge.best_estimator_, data)"
   ]
  },
  {
   "cell_type": "markdown",
   "metadata": {},
   "source": [
    "Dans ce cas, il y a un **peu d'overfitting**. Ce modèle ne semble pas être le meilleur car il présente la MAE la plus haute sur les données de validation."
   ]
  },
  {
   "cell_type": "markdown",
   "metadata": {},
   "source": [
    "### Courbe d'apprentissage"
   ]
  },
  {
   "cell_type": "markdown",
   "metadata": {},
   "source": [
    "Dans cette partie, nous cherchons à savoir si notre modèle **pourrait être plus performant s'il bénéficiait de plus de données**. \n",
    "* Si les courbes sont dans une phase de croissance, alors cela peut être le signe que le modèle aurait pu être plus efficace avec plus de données. \n",
    "* La métrique considérée est la moyenne des erreurs au carré."
   ]
  },
  {
   "cell_type": "markdown",
   "metadata": {},
   "source": [
    "#### Régression Lasso"
   ]
  },
  {
   "cell_type": "code",
   "execution_count": 21,
   "metadata": {},
   "outputs": [
    {
     "data": {
      "image/png": "[encoded data removed]",
      "text/plain": [
       "<Figure size 432x432 with 1 Axes>"
      ]
     },
     "metadata": {
      "needs_background": "light"
     },
     "output_type": "display_data"
    }
   ],
   "source": [
    "train_sizes_lasso2, train_scores_lasso2, valid_scores_lasso2 = verif_apprentissage('Lasso', mod_lasso.best_estimator_, data)"
   ]
  },
  {
   "cell_type": "markdown",
   "metadata": {},
   "source": [
    "La courbe sur les données d'entraînement est décroissante. Notre modèle semble avoir **assez de données**."
   ]
  },
  {
   "cell_type": "markdown",
   "metadata": {},
   "source": [
    "#### Bagging"
   ]
  },
  {
   "cell_type": "code",
   "execution_count": 22,
   "metadata": {},
   "outputs": [
    {
     "data": {
      "image/png": "[encoded data removed]",
      "text/plain": [
       "<Figure size 432x432 with 1 Axes>"
      ]
     },
     "metadata": {
      "needs_background": "light"
     },
     "output_type": "display_data"
    }
   ],
   "source": [
    "train_sizes_bagging2, train_scores_bagging2, valid_scores_bagging2 = verif_apprentissage('Bagging', mod_Bagging.best_estimator_, data)"
   ]
  },
  {
   "cell_type": "markdown",
   "metadata": {},
   "source": [
    "La courbe est dans une phase **stationnaire voire décroissante**. "
   ]
  },
  {
   "cell_type": "markdown",
   "metadata": {},
   "source": [
    "#### Régression Ridge"
   ]
  },
  {
   "cell_type": "code",
   "execution_count": 23,
   "metadata": {},
   "outputs": [
    {
     "data": {
      "image/png": "[encoded data removed]",
      "text/plain": [
       "<Figure size 432x432 with 1 Axes>"
      ]
     },
     "metadata": {
      "needs_background": "light"
     },
     "output_type": "display_data"
    }
   ],
   "source": [
    "train_sizes_ridge2, train_scores_ridge2, valid_scores_ridge2 = verif_apprentissage('Ridge', mod_ridge.best_estimator_, data)"
   ]
  },
  {
   "cell_type": "markdown",
   "metadata": {},
   "source": [
    "La courbe sur les données de validation est encore stable.\n",
    "\n",
    "**La régression Lasso semble être le meilleur modèle** car elle présente des métriques intéressantes. On arrête donc notre choix sur ce modèle."
   ]
  },
  {
   "cell_type": "markdown",
   "metadata": {},
   "source": [
    "## Prédictions "
   ]
  },
  {
   "cell_type": "markdown",
   "metadata": {},
   "source": [
    "On a donc choisi le **modèle Lasso** comme meilleur modèle. On va réaliser les prévisions mais on commence par observer les **coefficients associés à chaque variable**."
   ]
  },
  {
   "cell_type": "code",
   "execution_count": 24,
   "metadata": {},
   "outputs": [
    {
     "name": "stdout",
     "output_type": "stream",
     "text": [
      "COEFFICIENTS DE CHAQUE FEATURE\n",
      "pop_2018 : 0.1391559192669821\n",
      "pop_municipale : 0.0\n",
      "pib_2005 : 0.0\n",
      "pib_2000 : 0.13562948406901154\n",
      "décla : 0.12320411050792204\n",
      "taxe_om : 0.0\n",
      "impot : 0.5612698792059113\n"
     ]
    }
   ],
   "source": [
    "coefficients(X_train, mod_lasso)"
   ]
  },
  {
   "cell_type": "code",
   "execution_count": 25,
   "metadata": {},
   "outputs": [],
   "source": [
    "revenu_moyen_prédit= mod_lasso.best_estimator_.predict(X_test)\n",
    "array_test=np.array(y_test)"
   ]
  },
  {
   "cell_type": "markdown",
   "metadata": {},
   "source": [
    "On peut finalement observer les **métriques sur les données de test** afin de savoir si elles correspondent à nos attentes. "
   ]
  },
  {
   "cell_type": "code",
   "execution_count": 26,
   "metadata": {},
   "outputs": [
    {
     "name": "stdout",
     "output_type": "stream",
     "text": [
      "METRIQUES SUR LES DONNEES DE TEST\n",
      "MSE : 0.26345\n",
      "R2 : 0.82159\n",
      "MaxError : 2.10314\n",
      "MAE : 0.34172\n"
     ]
    }
   ],
   "source": [
    "metriques(y_test,revenu_moyen_prédit)"
   ]
  },
  {
   "cell_type": "markdown",
   "metadata": {},
   "source": [
    "On réalise les prédictions et on observe les **valeurs prédites et les valeurs réelles du revenu moyen**. "
   ]
  },
  {
   "cell_type": "code",
   "execution_count": 33,
   "metadata": {},
   "outputs": [
    {
     "data": {
      "text/html": [
       "<div>\n",
       "<style scoped>\n",
       "    .dataframe tbody tr th:only-of-type {\n",
       "        vertical-align: middle;\n",
       "    }\n",
       "\n",
       "    .dataframe tbody tr th {\n",
       "        vertical-align: top;\n",
       "    }\n",
       "\n",
       "    .dataframe thead th {\n",
       "        text-align: right;\n",
       "    }\n",
       "</style>\n",
       "<table border=\"1\" class=\"dataframe\">\n",
       "  <thead>\n",
       "    <tr style=\"text-align: right;\">\n",
       "      <th></th>\n",
       "      <th>revenu_moyen</th>\n",
       "      <th>predit</th>\n",
       "      <th>erreur</th>\n",
       "    </tr>\n",
       "    <tr>\n",
       "      <th>departement</th>\n",
       "      <th></th>\n",
       "      <th></th>\n",
       "      <th></th>\n",
       "    </tr>\n",
       "  </thead>\n",
       "  <tbody>\n",
       "    <tr>\n",
       "      <th>L o i r - e t - C h e r</th>\n",
       "      <td>0.166302</td>\n",
       "      <td>-0.105511</td>\n",
       "      <td>0.060791</td>\n",
       "    </tr>\n",
       "    <tr>\n",
       "      <th>L o t - e t - G a r o n n e</th>\n",
       "      <td>-0.568928</td>\n",
       "      <td>-0.311606</td>\n",
       "      <td>0.257322</td>\n",
       "    </tr>\n",
       "    <tr>\n",
       "      <th>D o u b s</th>\n",
       "      <td>0.083151</td>\n",
       "      <td>0.619678</td>\n",
       "      <td>-0.536527</td>\n",
       "    </tr>\n",
       "    <tr>\n",
       "      <th>C h e r</th>\n",
       "      <td>-0.131291</td>\n",
       "      <td>-0.265173</td>\n",
       "      <td>-0.133882</td>\n",
       "    </tr>\n",
       "    <tr>\n",
       "      <th>S e i n e - M a r i t i m e</th>\n",
       "      <td>0.818381</td>\n",
       "      <td>0.650369</td>\n",
       "      <td>0.168012</td>\n",
       "    </tr>\n",
       "  </tbody>\n",
       "</table>\n",
       "</div>"
      ],
      "text/plain": [
       "                               revenu_moyen    predit    erreur\n",
       "departement                                                    \n",
       " L o i r - e t - C h e r           0.166302 -0.105511  0.060791\n",
       " L o t - e t - G a r o n n e      -0.568928 -0.311606  0.257322\n",
       " D o u b s                         0.083151  0.619678 -0.536527\n",
       " C h e r                          -0.131291 -0.265173 -0.133882\n",
       " S e i n e - M a r i t i m e       0.818381  0.650369  0.168012"
      ]
     },
     "execution_count": 33,
     "metadata": {},
     "output_type": "execute_result"
    }
   ],
   "source": [
    "y_test=df_y(y_test, revenu_moyen_prédit)\n",
    "y_test.head()"
   ]
  },
  {
   "cell_type": "markdown",
   "metadata": {},
   "source": [
    "On peut aussi observer la **distribution des résidus** de notre régression. "
   ]
  },
  {
   "cell_type": "code",
   "execution_count": 34,
   "metadata": {},
   "outputs": [
    {
     "name": "stdout",
     "output_type": "stream",
     "text": [
      "Observation des résidus\n"
     ]
    },
    {
     "data": {
      "image/png": "[encoded data removed]",
      "text/plain": [
       "<Figure size 432x432 with 1 Axes>"
      ]
     },
     "metadata": {
      "needs_background": "light"
     },
     "output_type": "display_data"
    }
   ],
   "source": [
    "print(\"Observation des résidus\")\n",
    "g=sn.histplot(data=y_test, x=\"erreur\", kde=True, bins=30, color=\"gray\")"
   ]
  },
  {
   "cell_type": "markdown",
   "metadata": {},
   "source": [
    "**L'erreur maximale** est commise pour le département suivant. "
   ]
  },
  {
   "cell_type": "code",
   "execution_count": 29,
   "metadata": {},
   "outputs": [
    {
     "data": {
      "text/html": [
       "<div>\n",
       "<style scoped>\n",
       "    .dataframe tbody tr th:only-of-type {\n",
       "        vertical-align: middle;\n",
       "    }\n",
       "\n",
       "    .dataframe tbody tr th {\n",
       "        vertical-align: top;\n",
       "    }\n",
       "\n",
       "    .dataframe thead th {\n",
       "        text-align: right;\n",
       "    }\n",
       "</style>\n",
       "<table border=\"1\" class=\"dataframe\">\n",
       "  <thead>\n",
       "    <tr style=\"text-align: right;\">\n",
       "      <th></th>\n",
       "      <th>revenu_moyen</th>\n",
       "      <th>predit</th>\n",
       "      <th>erreur</th>\n",
       "    </tr>\n",
       "    <tr>\n",
       "      <th>departement</th>\n",
       "      <th></th>\n",
       "      <th></th>\n",
       "      <th></th>\n",
       "    </tr>\n",
       "  </thead>\n",
       "  <tbody>\n",
       "    <tr>\n",
       "      <th>Y v e l i n e s</th>\n",
       "      <td>5.776805</td>\n",
       "      <td>3.673667</td>\n",
       "      <td>2.103138</td>\n",
       "    </tr>\n",
       "  </tbody>\n",
       "</table>\n",
       "</div>"
      ],
      "text/plain": [
       "                   revenu_moyen    predit    erreur\n",
       "departement                                        \n",
       " Y v e l i n e s       5.776805  3.673667  2.103138"
      ]
     },
     "execution_count": 29,
     "metadata": {},
     "output_type": "execute_result"
    }
   ],
   "source": [
    "y_test[ y_test['erreur'] == y_test['erreur'].max() ]"
   ]
  },
  {
   "cell_type": "markdown",
   "metadata": {},
   "source": [
    "Pour finir, on peut observer le département pour lequel le **salaire moyen prédit est le plus élevé sur les données test**."
   ]
  },
  {
   "cell_type": "code",
   "execution_count": 30,
   "metadata": {},
   "outputs": [
    {
     "data": {
      "text/html": [
       "<div>\n",
       "<style scoped>\n",
       "    .dataframe tbody tr th:only-of-type {\n",
       "        vertical-align: middle;\n",
       "    }\n",
       "\n",
       "    .dataframe tbody tr th {\n",
       "        vertical-align: top;\n",
       "    }\n",
       "\n",
       "    .dataframe thead th {\n",
       "        text-align: right;\n",
       "    }\n",
       "</style>\n",
       "<table border=\"1\" class=\"dataframe\">\n",
       "  <thead>\n",
       "    <tr style=\"text-align: right;\">\n",
       "      <th></th>\n",
       "      <th>revenu_moyen</th>\n",
       "      <th>predit</th>\n",
       "      <th>erreur</th>\n",
       "    </tr>\n",
       "    <tr>\n",
       "      <th>departement</th>\n",
       "      <th></th>\n",
       "      <th></th>\n",
       "      <th></th>\n",
       "    </tr>\n",
       "  </thead>\n",
       "  <tbody>\n",
       "    <tr>\n",
       "      <th>Y v e l i n e s</th>\n",
       "      <td>5.776805</td>\n",
       "      <td>3.673667</td>\n",
       "      <td>2.103138</td>\n",
       "    </tr>\n",
       "  </tbody>\n",
       "</table>\n",
       "</div>"
      ],
      "text/plain": [
       "                   revenu_moyen    predit    erreur\n",
       "departement                                        \n",
       " Y v e l i n e s       5.776805  3.673667  2.103138"
      ]
     },
     "execution_count": 30,
     "metadata": {},
     "output_type": "execute_result"
    }
   ],
   "source": [
    "y_test[ y_test['predit'] == y_test['predit'].max() ]"
   ]
  },
  {
   "cell_type": "markdown",
   "metadata": {},
   "source": [
    "## Récapitulatif sur les données "
   ]
  },
  {
   "cell_type": "markdown",
   "metadata": {},
   "source": [
    "Le modèle nous permet de conclure que le département dont on prévoit qu'il aura le **revenu moyen le plus élevé** est le suivant."
   ]
  },
  {
   "cell_type": "code",
   "execution_count": 31,
   "metadata": {},
   "outputs": [
    {
     "data": {
      "text/html": [
       "<div>\n",
       "<style scoped>\n",
       "    .dataframe tbody tr th:only-of-type {\n",
       "        vertical-align: middle;\n",
       "    }\n",
       "\n",
       "    .dataframe tbody tr th {\n",
       "        vertical-align: top;\n",
       "    }\n",
       "\n",
       "    .dataframe thead th {\n",
       "        text-align: right;\n",
       "    }\n",
       "</style>\n",
       "<table border=\"1\" class=\"dataframe\">\n",
       "  <thead>\n",
       "    <tr style=\"text-align: right;\">\n",
       "      <th></th>\n",
       "      <th>pop_2018</th>\n",
       "      <th>pop_municipale</th>\n",
       "      <th>pib_2005</th>\n",
       "      <th>pib_2000</th>\n",
       "      <th>décla</th>\n",
       "      <th>taxe_om</th>\n",
       "      <th>impot</th>\n",
       "      <th>revenu_moyen</th>\n",
       "      <th>predit</th>\n",
       "    </tr>\n",
       "    <tr>\n",
       "      <th>departement</th>\n",
       "      <th></th>\n",
       "      <th></th>\n",
       "      <th></th>\n",
       "      <th></th>\n",
       "      <th></th>\n",
       "      <th></th>\n",
       "      <th></th>\n",
       "      <th></th>\n",
       "      <th></th>\n",
       "    </tr>\n",
       "  </thead>\n",
       "  <tbody>\n",
       "    <tr>\n",
       "      <th>H a u t s - d e - S e i n e</th>\n",
       "      <td>2.108039</td>\n",
       "      <td>2.144775</td>\n",
       "      <td>10.859388</td>\n",
       "      <td>10.640075</td>\n",
       "      <td>5.786118</td>\n",
       "      <td>0.332301</td>\n",
       "      <td>7.255337</td>\n",
       "      <td>7.07221</td>\n",
       "      <td>6.644936</td>\n",
       "    </tr>\n",
       "  </tbody>\n",
       "</table>\n",
       "</div>"
      ],
      "text/plain": [
       "                               pop_2018  pop_municipale   pib_2005   pib_2000  \\\n",
       "departement                                                                     \n",
       " H a u t s - d e - S e i n e   2.108039        2.144775  10.859388  10.640075   \n",
       "\n",
       "                                  décla   taxe_om     impot  revenu_moyen  \\\n",
       "departement                                                                 \n",
       " H a u t s - d e - S e i n e   5.786118  0.332301  7.255337       7.07221   \n",
       "\n",
       "                                 predit  \n",
       "departement                              \n",
       " H a u t s - d e - S e i n e   6.644936  "
      ]
     },
     "execution_count": 31,
     "metadata": {},
     "output_type": "execute_result"
    }
   ],
   "source": [
    "df_pred(data, mod_lasso)"
   ]
  },
  {
   "cell_type": "markdown",
   "metadata": {},
   "source": [
    "# Réponse à la problématique et conclusion"
   ]
  },
  {
   "cell_type": "markdown",
   "metadata": {},
   "source": [
    "* Au cours de notre étude, nous avons donc commencé par réaliser un **web scraping des données sur diverses pages web** et les avons **condensées en un data frame**.\n",
    "* Par la suite, nous avons **traité le data frame afin de le rendre exploitable**. \n",
    "* Nous avons terminé par réaliser la phase de **machine learning** au cours de laquelle nous avons entraîné plusieurs modèles sur nos données afin de trouver le plus performant. \n",
    "\n",
    "Pour conclure, on peut dire que c'est le **modèle Lasso qui semble être le meilleur**. Sur nos données test :\n",
    "* une moyenne des erreurs au carré de : 0,26 inférieure à 0,3\n",
    "* un R2 de : 0,54 donc supérieur à 0,7 ce qui répond à nos objectifs.\n",
    "\n",
    "Les variables qui ont le coefficient le plus important sont : *pop_2018*, *pib_2000*, *décla*, *impot*.\n",
    "\n",
    "\n",
    "Selon notre modèle, le département qui fournit le plus haut salaire moyen est le département des Hauts-de-Seine. Globalement, on comprend bien que la **région parisienne dans son ensemble fournit les meilleurs salaires car le niveau des prix est plus élevé qu'ailleurs en France**. \n",
    "\n",
    "Les **principales difficultés** rencontrées au cours de cette étude sont :\n",
    "* Réaliser du web scraping sans pouvoir utiliser Selenium.\n",
    "* Les pages web changent régulièrement ce qui amène à adapter le code souvent.\n",
    "* Mettre en place un modèle de machine learning avec si peu de données (étude qui s'assimile plus à de la statistique inférentielle).\n",
    "\n",
    "On peut mettre en lumière quelques unes des **faiblesses** de notre étude :\n",
    "* D'abord, nous avons très peu de données.\n",
    "* De plus, les disparités économiques géographiques qui existent en France se font sentir dans nos analyses.\n",
    "* La complexité du cas parisien n'a pas pu être prise en compte dans notre étude car Paris est un département trop particulier par rapport aux autres de telle sorte que l'intégrer à notre étude démultiplierait les erreurs. \n",
    "* De même, le caractère frontalier de certains département n'est pas pris en compte. \n",
    "\n",
    "En guise d'ouverture, on peut proposer de tenter de répondre à la même problématique mais cette fois-ci dans **plusieurs villes de France**. Cela nous permettrait d'avoir une base de données plus conséquente et cela pourrait réduire l'effet que les inégalités géographiques exercent sur notre étude."
   ]
  }
 ],
 "metadata": {
  "kernelspec": {
   "display_name": "Python 3",
   "language": "python",
   "name": "python3"
  },
  "language_info": {
   "codemirror_mode": {
    "name": "ipython",
    "version": 3
   },
   "file_extension": ".py",
   "mimetype": "text/x-python",
   "name": "python",
   "nbconvert_exporter": "python",
   "pygments_lexer": "ipython3",
   "version": "3.8.5"
  }
 },
 "nbformat": 4,
 "nbformat_minor": 4
}
