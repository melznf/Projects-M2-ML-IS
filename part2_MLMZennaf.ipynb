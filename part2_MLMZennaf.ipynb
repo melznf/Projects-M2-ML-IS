{
 "cells": [
  {
   "cell_type": "markdown",
   "metadata": {},
   "source": [
    "La phase précédente de web scraping des données nous a permis de récupérer des données provenant de différentes sources internet et des les enregistrer sous la forme d'un data frame Pandas."
   ]
  },
  {
   "cell_type": "markdown",
   "metadata": {},
   "source": [
    "# Preprocessing"
   ]
  },
  {
   "cell_type": "markdown",
   "metadata": {},
   "source": [
    "**Dans cette partie, nous allons tenter de mieux comprendre nos données et de les préparer pour la partie suivante à savoir la phase d'apprentissage et de prédiction.**"
   ]
  },
  {
   "cell_type": "markdown",
   "metadata": {},
   "source": [
    "On commence par importer toutes les libraries et fonctions nécéssaires à notre analyse."
   ]
  },
  {
   "cell_type": "code",
   "execution_count": 1,
   "metadata": {},
   "outputs": [],
   "source": [
    "import pandas as pd\n",
    "import numpy as np\n",
    "import seaborn as sn\n",
    "import matplotlib.pyplot as plt\n",
    "plt.rcParams[\"figure.figsize\"] = (8,8)"
   ]
  },
  {
   "cell_type": "code",
   "execution_count": 2,
   "metadata": {},
   "outputs": [],
   "source": [
    "from sklearn.preprocessing import MinMaxScaler\n",
    "from sklearn.preprocessing import RobustScaler\n",
    "\n",
    "from sklearn.feature_selection import SelectKBest\n",
    "from sklearn.feature_selection import chi2\n",
    "from sklearn.feature_selection import f_classif"
   ]
  },
  {
   "cell_type": "code",
   "execution_count": 3,
   "metadata": {},
   "outputs": [],
   "source": [
    "from script import convert_float, drop_inutile, select_features_kbest, data_frame_final, robuste_std, melange,multiplot2,  multiplot\n",
    "import script as sc"
   ]
  },
  {
   "cell_type": "markdown",
   "metadata": {},
   "source": [
    "On importe également notre jeu de données enregistré à la phase précédente de webscraping."
   ]
  },
  {
   "cell_type": "code",
   "execution_count": 4,
   "metadata": {},
   "outputs": [],
   "source": [
    "df = pd.read_csv(\"df.csv\")"
   ]
  },
  {
   "cell_type": "markdown",
   "metadata": {},
   "source": [
    "La phase de webscraping nous a permis d'extraire 21 variables :\n",
    "* *pop_2012* : la population en 2012\n",
    "* *pop_2014* : la population en 2014\n",
    "* *pop_2016* : la population en 2016\n",
    "* *pop_2017* : la population en 2017\n",
    "* *pop_2018* : la population en 2018\n",
    "* *superficie* : la superficie en km^2\n",
    "* *densite* : la densité de population en km^2\n",
    "* *nb_commune* : le nombre de communes\n",
    "* *pop_municipale* : la population municipale\n",
    "* *hab_m* : le nombre d'habitants au m^2\n",
    "* *pib_2015* : le pib en 2015\n",
    "* *pib_2005* : le pib en 2005\n",
    "* *pib_2000* : le pib en 2000\n",
    "* *décla* : la moyenne mensualisée des montants déclarés aux impôts\n",
    "* *taxe_om* : le taux de taxe communale sur les ordures ménagères\n",
    "* *impot* : le montant moyen d'impôt sur le revenu\n",
    "* *nom* : le nom du département\n",
    "* *code* : le code du département\n",
    "* *r_moyen* : le revenu moyen annuel\n",
    "\n",
    "On peut observer succintement un extrait du jeu de données. "
   ]
  },
  {
   "cell_type": "code",
   "execution_count": 5,
   "metadata": {},
   "outputs": [
    {
     "data": {
      "text/html": [
       "<div>\n",
       "<style scoped>\n",
       "    .dataframe tbody tr th:only-of-type {\n",
       "        vertical-align: middle;\n",
       "    }\n",
       "\n",
       "    .dataframe tbody tr th {\n",
       "        vertical-align: top;\n",
       "    }\n",
       "\n",
       "    .dataframe thead th {\n",
       "        text-align: right;\n",
       "    }\n",
       "</style>\n",
       "<table border=\"1\" class=\"dataframe\">\n",
       "  <thead>\n",
       "    <tr style=\"text-align: right;\">\n",
       "      <th></th>\n",
       "      <th>code_x</th>\n",
       "      <th>nom</th>\n",
       "      <th>pop_2012</th>\n",
       "      <th>pop_2014</th>\n",
       "      <th>pop_2016</th>\n",
       "      <th>pop_2017</th>\n",
       "      <th>pop_2018</th>\n",
       "      <th>superficie</th>\n",
       "      <th>densite</th>\n",
       "      <th>nb_commune</th>\n",
       "      <th>...</th>\n",
       "      <th>hab_m</th>\n",
       "      <th>pib_2015</th>\n",
       "      <th>pib_2005</th>\n",
       "      <th>pib_2000</th>\n",
       "      <th>décla</th>\n",
       "      <th>code_y</th>\n",
       "      <th>rmoyen</th>\n",
       "      <th>code</th>\n",
       "      <th>taxe_om</th>\n",
       "      <th>impot</th>\n",
       "    </tr>\n",
       "  </thead>\n",
       "  <tbody>\n",
       "    <tr>\n",
       "      <th>0</th>\n",
       "      <td>59</td>\n",
       "      <td>N o r d</td>\n",
       "      <td>2587128</td>\n",
       "      <td>2603472</td>\n",
       "      <td>2603723</td>\n",
       "      <td>2604361</td>\n",
       "      <td>2604361</td>\n",
       "      <td>5742,8</td>\n",
       "      <td>453,8</td>\n",
       "      <td>650</td>\n",
       "      <td>...</td>\n",
       "      <td>3968</td>\n",
       "      <td>NaN</td>\n",
       "      <td>23567</td>\n",
       "      <td>19794</td>\n",
       "      <td>2427</td>\n",
       "      <td>59</td>\n",
       "      <td>24887</td>\n",
       "      <td>59</td>\n",
       "      <td>18,07</td>\n",
       "      <td>3414</td>\n",
       "    </tr>\n",
       "    <tr>\n",
       "      <th>1</th>\n",
       "      <td>75</td>\n",
       "      <td>P a r i s</td>\n",
       "      <td>2240621</td>\n",
       "      <td>2220445</td>\n",
       "      <td>2190327</td>\n",
       "      <td>2187526</td>\n",
       "      <td>2187526</td>\n",
       "      <td>105,4</td>\n",
       "      <td>20720,0</td>\n",
       "      <td>1</td>\n",
       "      <td>...</td>\n",
       "      <td>2249975</td>\n",
       "      <td>96400.0</td>\n",
       "      <td>75439</td>\n",
       "      <td>67502</td>\n",
       "      <td>4007</td>\n",
       "      <td>75</td>\n",
       "      <td>48301</td>\n",
       "      <td>75</td>\n",
       "      <td>13,50</td>\n",
       "      <td>11750</td>\n",
       "    </tr>\n",
       "    <tr>\n",
       "      <th>2</th>\n",
       "      <td>13</td>\n",
       "      <td>B o u c h e s - d u - R h ô n e</td>\n",
       "      <td>1984784</td>\n",
       "      <td>2006069</td>\n",
       "      <td>2019717</td>\n",
       "      <td>2024162</td>\n",
       "      <td>2024162</td>\n",
       "      <td>5087</td>\n",
       "      <td>399,9</td>\n",
       "      <td>119</td>\n",
       "      <td>...</td>\n",
       "      <td>16604</td>\n",
       "      <td>34200.0</td>\n",
       "      <td>27818</td>\n",
       "      <td>23521</td>\n",
       "      <td>2570</td>\n",
       "      <td>13</td>\n",
       "      <td>26751</td>\n",
       "      <td>13</td>\n",
       "      <td>21,06</td>\n",
       "      <td>3996</td>\n",
       "    </tr>\n",
       "    <tr>\n",
       "      <th>3</th>\n",
       "      <td>93</td>\n",
       "      <td>S e i n e - S a i n t - D e n i s</td>\n",
       "      <td>1538726</td>\n",
       "      <td>1571028</td>\n",
       "      <td>1606660</td>\n",
       "      <td>1623111</td>\n",
       "      <td>1623111</td>\n",
       "      <td>236,2</td>\n",
       "      <td>6918,1</td>\n",
       "      <td>40</td>\n",
       "      <td>...</td>\n",
       "      <td>38248</td>\n",
       "      <td>38900.0</td>\n",
       "      <td>27420</td>\n",
       "      <td>23305</td>\n",
       "      <td>2398</td>\n",
       "      <td>93</td>\n",
       "      <td>21768</td>\n",
       "      <td>93</td>\n",
       "      <td>21,91</td>\n",
       "      <td>3095</td>\n",
       "    </tr>\n",
       "    <tr>\n",
       "      <th>4</th>\n",
       "      <td>92</td>\n",
       "      <td>H a u t s - d e - S e i n e</td>\n",
       "      <td>1586434</td>\n",
       "      <td>1597770</td>\n",
       "      <td>1603268</td>\n",
       "      <td>1609306</td>\n",
       "      <td>1609306</td>\n",
       "      <td>175,6</td>\n",
       "      <td>9199,6</td>\n",
       "      <td>36</td>\n",
       "      <td>...</td>\n",
       "      <td>43934</td>\n",
       "      <td>97500.0</td>\n",
       "      <td>73277</td>\n",
       "      <td>62244</td>\n",
       "      <td>3885</td>\n",
       "      <td>92</td>\n",
       "      <td>45966</td>\n",
       "      <td>92</td>\n",
       "      <td>16,04</td>\n",
       "      <td>9162</td>\n",
       "    </tr>\n",
       "  </tbody>\n",
       "</table>\n",
       "<p>5 rows × 21 columns</p>\n",
       "</div>"
      ],
      "text/plain": [
       "   code_x                                  nom  pop_2012  pop_2014  pop_2016  \\\n",
       "0      59                             N o r d    2587128   2603472   2603723   \n",
       "1      75                           P a r i s    2240621   2220445   2190327   \n",
       "2      13     B o u c h e s - d u - R h ô n e    1984784   2006069   2019717   \n",
       "3      93   S e i n e - S a i n t - D e n i s    1538726   1571028   1606660   \n",
       "4      92         H a u t s - d e - S e i n e    1586434   1597770   1603268   \n",
       "\n",
       "   pop_2017  pop_2018 superficie  densite  nb_commune  ...    hab_m  pib_2015  \\\n",
       "0   2604361   2604361     5742,8    453,8         650  ...     3968       NaN   \n",
       "1   2187526   2187526      105,4  20720,0           1  ...  2249975   96400.0   \n",
       "2   2024162   2024162       5087    399,9         119  ...    16604   34200.0   \n",
       "3   1623111   1623111      236,2   6918,1          40  ...    38248   38900.0   \n",
       "4   1609306   1609306      175,6   9199,6          36  ...    43934   97500.0   \n",
       "\n",
       "   pib_2005  pib_2000  décla  code_y  rmoyen  code  taxe_om  impot  \n",
       "0     23567     19794   2427      59   24887    59    18,07   3414  \n",
       "1     75439     67502   4007      75   48301    75    13,50  11750  \n",
       "2     27818     23521   2570      13   26751    13    21,06   3996  \n",
       "3     27420     23305   2398      93   21768    93    21,91   3095  \n",
       "4     73277     62244   3885      92   45966    92    16,04   9162  \n",
       "\n",
       "[5 rows x 21 columns]"
      ]
     },
     "metadata": {},
     "output_type": "display_data"
    }
   ],
   "source": [
    "display(df.head())"
   ]
  },
  {
   "cell_type": "markdown",
   "metadata": {},
   "source": [
    "On réalise dès à présent quelques manipulations de preprocessing :\n",
    "* On convertit certaines variables en float (*superficie, densite, taxe_om*) : Ces nombres étaient stockés comme des chaînes de caractère car pandas ne considère pas un nombre formaté comme cela \"##,#\" comme un float. On commence d'abord par transformer les virgules en points puis on applique une fonction de conversion. \n",
    "\n",
    "``def convert_float(df):\n",
    "    df['densite'] = [x.replace(',', '.') for x in df['densite']]\n",
    "    df['densite'] = df['densite'].astype(float)\n",
    "    df['superficie'] = [x.replace(',', '.') for x in df['superficie']]\n",
    "    df['superficie'] = df['superficie'].astype(float)\n",
    "    df['taxe_om'] = [x.replace(',', '.') for x in df['taxe_om']]\n",
    "    df['taxe_om'] = df['taxe_om'].astype(float)\n",
    "    return df``\n",
    "\n",
    "\n",
    "* On se débarrasse de la variables *pib_2015* qui compte trop de NAs et d'autres variables inutiles : Comme nous avons aussi les variables *pib_2000* et *pib_2005*, elle ne nous manquera pas. Même constat pour le code du département car nous n'en avons pas besoin. \n",
    "\n",
    "``def drop_inutile(df):\n",
    "    df.drop(['pib_2015'], axis='columns', inplace=True)\n",
    "    df.drop(['code_y'], axis='columns', inplace=True)\n",
    "    df.drop(['code_x'], axis='columns', inplace=True)\n",
    "    df.drop(['code'], axis='columns', inplace=True)\n",
    "    return df``\n",
    "\n",
    "\n",
    "* On transforme nos données selon RobustScaler (choisi car nous avons des valeurs extrêmes) : Ce transformateur s'applique à toutes nos données et est plus adapté ici. Il transforme les données de la manière suivante :$$X_scaled=\\frac{X-mediane}{IQR}$$ avec $IQR$ l'écart entre le premier et le troisième quartile. On utilise la fonction suivante :\n",
    "\n",
    "``def robuste_std(df):\n",
    "    df[['nom des colonnes à transformer']] = RobustScaler().fit_transform(df[['nom des colonnes à transformer']])\n",
    "    return pd.DataFrame(df)``\n",
    "\n",
    "* On mélange notre jeu de données car il est présentement classé par ordre décroissant de population, ce qui peut nous causer des problèmes ultérieurement : La fonction est la suivante :\n",
    "\n",
    "``def melange(df):\n",
    "    df_shuffled=sklearn.utils.shuffle(df, random_state=4)\n",
    "    return df_shuffled``\n",
    "    \n",
    "On utilise un système de pipeline afin de réaliser toutes ces transformations de manière successive."
   ]
  },
  {
   "cell_type": "code",
   "execution_count": 6,
   "metadata": {},
   "outputs": [],
   "source": [
    "new_df=(\n",
    "    df\n",
    "    .pipe(sc.convert_float)\n",
    "    .pipe(sc.drop_inutile)\n",
    "    .pipe(sc.robuste_std)\n",
    "    .pipe(sc.melange)\n",
    ")"
   ]
  },
  {
   "cell_type": "markdown",
   "metadata": {},
   "source": [
    "Le data frame est totalement exploitable dès à présent. On peut commencer par observer rapidement nos données sous la forme de nuages de points. Les variables sont représentées par rapport au revenu moyen annuel."
   ]
  },
  {
   "cell_type": "code",
   "execution_count": 7,
   "metadata": {},
   "outputs": [
    {
     "data": {
      "image/png": "[encoded data removed]",
      "text/plain": [
       "<Figure size 576x576 with 9 Axes>"
      ]
     },
     "metadata": {
      "needs_background": "light"
     },
     "output_type": "display_data"
    }
   ],
   "source": [
    "multiplot(df)"
   ]
  },
  {
   "cell_type": "markdown",
   "metadata": {},
   "source": [
    "La plupart des variables laissent apparaître des relations croissantes avec notre variable d'intérêt sauf peut-être la densité, la superficie et le nombre de communes pour lesquelles la relation n'est pas clairement positive à vue d'oeil.\n",
    "\n",
    "La variable *hab_m* laisse apparaître la présence d'une valeur extrême. Observons cela de plus près."
   ]
  },
  {
   "cell_type": "code",
   "execution_count": 8,
   "metadata": {},
   "outputs": [
    {
     "data": {
      "text/plain": [
       "[<matplotlib.lines.Line2D at 0x78cb63d78130>]"
      ]
     },
     "execution_count": 8,
     "metadata": {},
     "output_type": "execute_result"
    },
    {
     "data": {
      "image/png": "[encoded data removed]",
      "text/plain": [
       "<Figure size 576x576 with 1 Axes>"
      ]
     },
     "metadata": {
      "needs_background": "light"
     },
     "output_type": "display_data"
    }
   ],
   "source": [
    "plt.plot(df['hab_m'], df['nom'],color='green')"
   ]
  },
  {
   "cell_type": "markdown",
   "metadata": {},
   "source": [
    "C'est donc la ville de Paris qui est une valeur extrême pour le nombre d'habitants au mètre carré et cela n'est pas surprenant."
   ]
  },
  {
   "cell_type": "code",
   "execution_count": 9,
   "metadata": {},
   "outputs": [
    {
     "data": {
      "text/html": [
       "<div>\n",
       "<style scoped>\n",
       "    .dataframe tbody tr th:only-of-type {\n",
       "        vertical-align: middle;\n",
       "    }\n",
       "\n",
       "    .dataframe tbody tr th {\n",
       "        vertical-align: top;\n",
       "    }\n",
       "\n",
       "    .dataframe thead th {\n",
       "        text-align: right;\n",
       "    }\n",
       "</style>\n",
       "<table border=\"1\" class=\"dataframe\">\n",
       "  <thead>\n",
       "    <tr style=\"text-align: right;\">\n",
       "      <th></th>\n",
       "      <th>nom</th>\n",
       "      <th>pop_2012</th>\n",
       "      <th>pop_2014</th>\n",
       "      <th>pop_2016</th>\n",
       "      <th>pop_2017</th>\n",
       "      <th>pop_2018</th>\n",
       "      <th>superficie</th>\n",
       "      <th>densite</th>\n",
       "      <th>nb_commune</th>\n",
       "      <th>pop_municipale</th>\n",
       "      <th>hab_m</th>\n",
       "      <th>pib_2005</th>\n",
       "      <th>pib_2000</th>\n",
       "      <th>décla</th>\n",
       "      <th>rmoyen</th>\n",
       "      <th>taxe_om</th>\n",
       "      <th>impot</th>\n",
       "    </tr>\n",
       "  </thead>\n",
       "  <tbody>\n",
       "    <tr>\n",
       "      <th>1</th>\n",
       "      <td>P a r i s</td>\n",
       "      <td>2240621</td>\n",
       "      <td>2220445</td>\n",
       "      <td>2190327</td>\n",
       "      <td>2187526</td>\n",
       "      <td>2.97674</td>\n",
       "      <td>-3.761082</td>\n",
       "      <td>190.981537</td>\n",
       "      <td>-1.320463</td>\n",
       "      <td>3.164478</td>\n",
       "      <td>1585.861072</td>\n",
       "      <td>11.217104</td>\n",
       "      <td>11.838666</td>\n",
       "      <td>7.515152</td>\n",
       "      <td>6.426018</td>\n",
       "      <td>-0.234899</td>\n",
       "      <td>10.373639</td>\n",
       "    </tr>\n",
       "  </tbody>\n",
       "</table>\n",
       "</div>"
      ],
      "text/plain": [
       "           nom  pop_2012  pop_2014  pop_2016  pop_2017  pop_2018  superficie  \\\n",
       "1   P a r i s    2240621   2220445   2190327   2187526   2.97674   -3.761082   \n",
       "\n",
       "      densite  nb_commune  pop_municipale        hab_m   pib_2005   pib_2000  \\\n",
       "1  190.981537   -1.320463        3.164478  1585.861072  11.217104  11.838666   \n",
       "\n",
       "      décla    rmoyen   taxe_om      impot  \n",
       "1  7.515152  6.426018 -0.234899  10.373639  "
      ]
     },
     "execution_count": 9,
     "metadata": {},
     "output_type": "execute_result"
    }
   ],
   "source": [
    "new_df[new_df['hab_m']==new_df['hab_m'].max()]"
   ]
  },
  {
   "cell_type": "markdown",
   "metadata": {},
   "source": [
    "On peut observer un sommaire des données. On voit qu'elles ont bien été échelonnées sauf pour les variables redondantes que l'on a pas pris la peine de transformer. Effectivement, on sait qu'on ne va pas les garder car il y aurait trop d'autocorrellation. "
   ]
  },
  {
   "cell_type": "code",
   "execution_count": 10,
   "metadata": {},
   "outputs": [
    {
     "data": {
      "text/html": [
       "<div>\n",
       "<style scoped>\n",
       "    .dataframe tbody tr th:only-of-type {\n",
       "        vertical-align: middle;\n",
       "    }\n",
       "\n",
       "    .dataframe tbody tr th {\n",
       "        vertical-align: top;\n",
       "    }\n",
       "\n",
       "    .dataframe thead th {\n",
       "        text-align: right;\n",
       "    }\n",
       "</style>\n",
       "<table border=\"1\" class=\"dataframe\">\n",
       "  <thead>\n",
       "    <tr style=\"text-align: right;\">\n",
       "      <th></th>\n",
       "      <th>pop_2012</th>\n",
       "      <th>pop_2014</th>\n",
       "      <th>pop_2016</th>\n",
       "      <th>pop_2017</th>\n",
       "      <th>pop_2018</th>\n",
       "      <th>superficie</th>\n",
       "      <th>densite</th>\n",
       "      <th>nb_commune</th>\n",
       "      <th>pop_municipale</th>\n",
       "      <th>hab_m</th>\n",
       "      <th>pib_2005</th>\n",
       "      <th>pib_2000</th>\n",
       "      <th>décla</th>\n",
       "      <th>rmoyen</th>\n",
       "      <th>taxe_om</th>\n",
       "      <th>impot</th>\n",
       "    </tr>\n",
       "  </thead>\n",
       "  <tbody>\n",
       "    <tr>\n",
       "      <th>count</th>\n",
       "      <td>9.100000e+01</td>\n",
       "      <td>9.100000e+01</td>\n",
       "      <td>9.100000e+01</td>\n",
       "      <td>9.100000e+01</td>\n",
       "      <td>91.000000</td>\n",
       "      <td>91.000000</td>\n",
       "      <td>91.000000</td>\n",
       "      <td>91.000000</td>\n",
       "      <td>91.000000</td>\n",
       "      <td>91.000000</td>\n",
       "      <td>91.000000</td>\n",
       "      <td>91.000000</td>\n",
       "      <td>91.000000</td>\n",
       "      <td>91.000000</td>\n",
       "      <td>91.000000</td>\n",
       "      <td>91.000000</td>\n",
       "    </tr>\n",
       "    <tr>\n",
       "      <th>mean</th>\n",
       "      <td>6.687950e+05</td>\n",
       "      <td>6.754757e+05</td>\n",
       "      <td>6.799235e+05</td>\n",
       "      <td>6.817020e+05</td>\n",
       "      <td>0.233389</td>\n",
       "      <td>-0.128206</td>\n",
       "      <td>4.662778</td>\n",
       "      <td>0.173278</td>\n",
       "      <td>0.221182</td>\n",
       "      <td>18.687294</td>\n",
       "      <td>0.346628</td>\n",
       "      <td>0.308592</td>\n",
       "      <td>0.401218</td>\n",
       "      <td>0.318896</td>\n",
       "      <td>0.109964</td>\n",
       "      <td>0.386032</td>\n",
       "    </tr>\n",
       "    <tr>\n",
       "      <th>std</th>\n",
       "      <td>4.924620e+05</td>\n",
       "      <td>4.982734e+05</td>\n",
       "      <td>5.022013e+05</td>\n",
       "      <td>5.044471e+05</td>\n",
       "      <td>0.919016</td>\n",
       "      <td>1.199260</td>\n",
       "      <td>23.212821</td>\n",
       "      <td>0.721228</td>\n",
       "      <td>0.910412</td>\n",
       "      <td>166.177629</td>\n",
       "      <td>1.720922</td>\n",
       "      <td>1.764777</td>\n",
       "      <td>1.405412</td>\n",
       "      <td>1.222947</td>\n",
       "      <td>0.778994</td>\n",
       "      <td>1.557110</td>\n",
       "    </tr>\n",
       "    <tr>\n",
       "      <th>min</th>\n",
       "      <td>7.688900e+04</td>\n",
       "      <td>7.636000e+04</td>\n",
       "      <td>7.642200e+04</td>\n",
       "      <td>7.660100e+04</td>\n",
       "      <td>-0.869001</td>\n",
       "      <td>-3.761082</td>\n",
       "      <td>-0.635417</td>\n",
       "      <td>-1.320463</td>\n",
       "      <td>-0.872190</td>\n",
       "      <td>-0.590268</td>\n",
       "      <td>-0.931329</td>\n",
       "      <td>-1.100710</td>\n",
       "      <td>-1.082251</td>\n",
       "      <td>-1.293454</td>\n",
       "      <td>-1.456376</td>\n",
       "      <td>-1.219484</td>\n",
       "    </tr>\n",
       "    <tr>\n",
       "      <th>25%</th>\n",
       "      <td>3.151520e+05</td>\n",
       "      <td>3.163255e+05</td>\n",
       "      <td>3.170335e+05</td>\n",
       "      <td>3.178660e+05</td>\n",
       "      <td>-0.429457</td>\n",
       "      <td>-0.480496</td>\n",
       "      <td>-0.292906</td>\n",
       "      <td>-0.314672</td>\n",
       "      <td>-0.431279</td>\n",
       "      <td>-0.280324</td>\n",
       "      <td>-0.383557</td>\n",
       "      <td>-0.403834</td>\n",
       "      <td>-0.337662</td>\n",
       "      <td>-0.355748</td>\n",
       "      <td>-0.432886</td>\n",
       "      <td>-0.378223</td>\n",
       "    </tr>\n",
       "    <tr>\n",
       "      <th>50%</th>\n",
       "      <td>5.463140e+05</td>\n",
       "      <td>5.543740e+05</td>\n",
       "      <td>5.550230e+05</td>\n",
       "      <td>5.535950e+05</td>\n",
       "      <td>0.000000</td>\n",
       "      <td>0.000000</td>\n",
       "      <td>0.000000</td>\n",
       "      <td>0.000000</td>\n",
       "      <td>0.000000</td>\n",
       "      <td>0.000000</td>\n",
       "      <td>0.000000</td>\n",
       "      <td>0.000000</td>\n",
       "      <td>0.000000</td>\n",
       "      <td>0.000000</td>\n",
       "      <td>0.000000</td>\n",
       "      <td>0.000000</td>\n",
       "    </tr>\n",
       "    <tr>\n",
       "      <th>75%</th>\n",
       "      <td>8.557965e+05</td>\n",
       "      <td>8.621175e+05</td>\n",
       "      <td>8.658955e+05</td>\n",
       "      <td>8.667655e+05</td>\n",
       "      <td>0.570543</td>\n",
       "      <td>0.519504</td>\n",
       "      <td>0.707094</td>\n",
       "      <td>0.685328</td>\n",
       "      <td>0.568721</td>\n",
       "      <td>0.719676</td>\n",
       "      <td>0.616443</td>\n",
       "      <td>0.596166</td>\n",
       "      <td>0.662338</td>\n",
       "      <td>0.644252</td>\n",
       "      <td>0.567114</td>\n",
       "      <td>0.621777</td>\n",
       "    </tr>\n",
       "    <tr>\n",
       "      <th>max</th>\n",
       "      <td>2.587128e+06</td>\n",
       "      <td>2.603472e+06</td>\n",
       "      <td>2.603723e+06</td>\n",
       "      <td>2.604361e+06</td>\n",
       "      <td>3.736141</td>\n",
       "      <td>2.566172</td>\n",
       "      <td>190.981537</td>\n",
       "      <td>2.131274</td>\n",
       "      <td>3.776127</td>\n",
       "      <td>1585.861072</td>\n",
       "      <td>11.217104</td>\n",
       "      <td>11.838666</td>\n",
       "      <td>7.515152</td>\n",
       "      <td>6.426018</td>\n",
       "      <td>2.689038</td>\n",
       "      <td>10.373639</td>\n",
       "    </tr>\n",
       "  </tbody>\n",
       "</table>\n",
       "</div>"
      ],
      "text/plain": [
       "           pop_2012      pop_2014      pop_2016      pop_2017   pop_2018  \\\n",
       "count  9.100000e+01  9.100000e+01  9.100000e+01  9.100000e+01  91.000000   \n",
       "mean   6.687950e+05  6.754757e+05  6.799235e+05  6.817020e+05   0.233389   \n",
       "std    4.924620e+05  4.982734e+05  5.022013e+05  5.044471e+05   0.919016   \n",
       "min    7.688900e+04  7.636000e+04  7.642200e+04  7.660100e+04  -0.869001   \n",
       "25%    3.151520e+05  3.163255e+05  3.170335e+05  3.178660e+05  -0.429457   \n",
       "50%    5.463140e+05  5.543740e+05  5.550230e+05  5.535950e+05   0.000000   \n",
       "75%    8.557965e+05  8.621175e+05  8.658955e+05  8.667655e+05   0.570543   \n",
       "max    2.587128e+06  2.603472e+06  2.603723e+06  2.604361e+06   3.736141   \n",
       "\n",
       "       superficie     densite  nb_commune  pop_municipale        hab_m  \\\n",
       "count   91.000000   91.000000   91.000000       91.000000    91.000000   \n",
       "mean    -0.128206    4.662778    0.173278        0.221182    18.687294   \n",
       "std      1.199260   23.212821    0.721228        0.910412   166.177629   \n",
       "min     -3.761082   -0.635417   -1.320463       -0.872190    -0.590268   \n",
       "25%     -0.480496   -0.292906   -0.314672       -0.431279    -0.280324   \n",
       "50%      0.000000    0.000000    0.000000        0.000000     0.000000   \n",
       "75%      0.519504    0.707094    0.685328        0.568721     0.719676   \n",
       "max      2.566172  190.981537    2.131274        3.776127  1585.861072   \n",
       "\n",
       "        pib_2005   pib_2000      décla     rmoyen    taxe_om      impot  \n",
       "count  91.000000  91.000000  91.000000  91.000000  91.000000  91.000000  \n",
       "mean    0.346628   0.308592   0.401218   0.318896   0.109964   0.386032  \n",
       "std     1.720922   1.764777   1.405412   1.222947   0.778994   1.557110  \n",
       "min    -0.931329  -1.100710  -1.082251  -1.293454  -1.456376  -1.219484  \n",
       "25%    -0.383557  -0.403834  -0.337662  -0.355748  -0.432886  -0.378223  \n",
       "50%     0.000000   0.000000   0.000000   0.000000   0.000000   0.000000  \n",
       "75%     0.616443   0.596166   0.662338   0.644252   0.567114   0.621777  \n",
       "max    11.217104  11.838666   7.515152   6.426018   2.689038  10.373639  "
      ]
     },
     "execution_count": 10,
     "metadata": {},
     "output_type": "execute_result"
    }
   ],
   "source": [
    "new_df.describe()"
   ]
  },
  {
   "cell_type": "markdown",
   "metadata": {},
   "source": [
    "On s'intéresse à présent aux liens entre nos variables. Les variables de population sont très corrélées entre elles, on veillera donc à ne pas toutes les garder. "
   ]
  },
  {
   "cell_type": "code",
   "execution_count": 11,
   "metadata": {},
   "outputs": [
    {
     "data": {
      "image/png": "[encoded data removed]",
      "text/plain": [
       "<Figure size 576x576 with 2 Axes>"
      ]
     },
     "metadata": {
      "needs_background": "light"
     },
     "output_type": "display_data"
    }
   ],
   "source": [
    "corrMatrix = new_df.corr()\n",
    "sn.heatmap(corrMatrix, cmap=\"Greens\")\n",
    "plt.show()"
   ]
  },
  {
   "cell_type": "markdown",
   "metadata": {},
   "source": [
    "Ce graphique nous permet aussi d'observer que les variables issues d'une même source sont souvent beaucoup corrélées."
   ]
  },
  {
   "cell_type": "markdown",
   "metadata": {},
   "source": [
    "Nous allons maintenant sélectionner les variables que l'on va garder pour la phase d'apprentissage. On utilise la fonction SelectKBest selon le le classificateur du f_score avec un objectif de sept variables. On peut observer l'importance des variables dans le graphique suivant. On se fixe un nombre maximal de sept variables. Le graphique suivant nous permet d'apprécier le score de chaque variable."
   ]
  },
  {
   "cell_type": "code",
   "execution_count": 12,
   "metadata": {},
   "outputs": [
    {
     "data": {
      "image/png": "[encoded data removed]",
      "text/plain": [
       "<Figure size 576x576 with 1 Axes>"
      ]
     },
     "metadata": {
      "needs_background": "light"
     },
     "output_type": "display_data"
    }
   ],
   "source": [
    "scores, selected=select_features_kbest(new_df)"
   ]
  },
  {
   "cell_type": "markdown",
   "metadata": {},
   "source": [
    "On obtient donc la sélection de variable et on crée le data frame final selon l'estimateur de SelectKBest."
   ]
  },
  {
   "cell_type": "code",
   "execution_count": 13,
   "metadata": {},
   "outputs": [
    {
     "name": "stderr",
     "output_type": "stream",
     "text": [
      "/home/melissaznf/python M2/script.py:570: SettingWithCopyWarning: \n",
      "A value is trying to be set on a copy of a slice from a DataFrame.\n",
      "Try using .loc[row_indexer,col_indexer] = value instead\n",
      "\n",
      "See the caveats in the documentation: https://pandas.pydata.org/pandas-docs/stable/user_guide/indexing.html#returning-a-view-versus-a-copy\n",
      "  df_new['revenu_moyen']=v\n",
      "/home/melissaznf/python M2/script.py:571: SettingWithCopyWarning: \n",
      "A value is trying to be set on a copy of a slice from a DataFrame.\n",
      "Try using .loc[row_indexer,col_indexer] = value instead\n",
      "\n",
      "See the caveats in the documentation: https://pandas.pydata.org/pandas-docs/stable/user_guide/indexing.html#returning-a-view-versus-a-copy\n",
      "  df_new['departement']=w\n"
     ]
    }
   ],
   "source": [
    "df_final=data_frame_final(selected, new_df)"
   ]
  },
  {
   "cell_type": "markdown",
   "metadata": {},
   "source": [
    "Nous obtenons donc le dataframe final suivant qui sera enregistré au format csv et réutilisé dans la suite de nos analyses.\n",
    "Les variables sélectionnées sont :\n",
    "* *pop_2018*\n",
    "* *densite*\n",
    "* *pop_municipale*\n",
    "* *hab_m*\n",
    "* *pib_2000*\n",
    "* *décla*\n",
    "* *impot*\n",
    "\n",
    "et bien évidemment *revenu_moyen*."
   ]
  },
  {
   "cell_type": "code",
   "execution_count": 14,
   "metadata": {},
   "outputs": [
    {
     "data": {
      "text/html": [
       "<div>\n",
       "<style scoped>\n",
       "    .dataframe tbody tr th:only-of-type {\n",
       "        vertical-align: middle;\n",
       "    }\n",
       "\n",
       "    .dataframe tbody tr th {\n",
       "        vertical-align: top;\n",
       "    }\n",
       "\n",
       "    .dataframe thead th {\n",
       "        text-align: right;\n",
       "    }\n",
       "</style>\n",
       "<table border=\"1\" class=\"dataframe\">\n",
       "  <thead>\n",
       "    <tr style=\"text-align: right;\">\n",
       "      <th></th>\n",
       "      <th>pop_2018</th>\n",
       "      <th>densite</th>\n",
       "      <th>pop_municipale</th>\n",
       "      <th>hab_m</th>\n",
       "      <th>pib_2000</th>\n",
       "      <th>décla</th>\n",
       "      <th>impot</th>\n",
       "      <th>revenu_moyen</th>\n",
       "    </tr>\n",
       "    <tr>\n",
       "      <th>departement</th>\n",
       "      <th></th>\n",
       "      <th></th>\n",
       "      <th></th>\n",
       "      <th></th>\n",
       "      <th></th>\n",
       "      <th></th>\n",
       "      <th></th>\n",
       "      <th></th>\n",
       "    </tr>\n",
       "  </thead>\n",
       "  <tbody>\n",
       "    <tr>\n",
       "      <th>I s è r e</th>\n",
       "      <td>1.284619</td>\n",
       "      <td>0.800611</td>\n",
       "      <td>1.242093</td>\n",
       "      <td>0.744711</td>\n",
       "      <td>0.865181</td>\n",
       "      <td>1.506494</td>\n",
       "      <td>0.645272</td>\n",
       "      <td>1.056381</td>\n",
       "    </tr>\n",
       "    <tr>\n",
       "      <th>A u b e</th>\n",
       "      <td>-0.443752</td>\n",
       "      <td>-0.294850</td>\n",
       "      <td>-0.450764</td>\n",
       "      <td>-0.368124</td>\n",
       "      <td>0.272874</td>\n",
       "      <td>-0.207792</td>\n",
       "      <td>0.356447</td>\n",
       "      <td>-0.085534</td>\n",
       "    </tr>\n",
       "    <tr>\n",
       "      <th>P u y - d e - D ô m e</th>\n",
       "      <td>0.182451</td>\n",
       "      <td>-0.013512</td>\n",
       "      <td>0.165045</td>\n",
       "      <td>0.090268</td>\n",
       "      <td>0.616706</td>\n",
       "      <td>0.627706</td>\n",
       "      <td>0.175358</td>\n",
       "      <td>0.312981</td>\n",
       "    </tr>\n",
       "    <tr>\n",
       "      <th>V a l - d e - M a r n e</th>\n",
       "      <td>1.520007</td>\n",
       "      <td>51.993985</td>\n",
       "      <td>1.462224</td>\n",
       "      <td>19.148801</td>\n",
       "      <td>1.203286</td>\n",
       "      <td>2.948052</td>\n",
       "      <td>2.720917</td>\n",
       "      <td>1.806381</td>\n",
       "    </tr>\n",
       "    <tr>\n",
       "      <th>E u r e - e t - L o i r</th>\n",
       "      <td>-0.219279</td>\n",
       "      <td>-0.090787</td>\n",
       "      <td>-0.215903</td>\n",
       "      <td>-0.107898</td>\n",
       "      <td>0.107556</td>\n",
       "      <td>0.735931</td>\n",
       "      <td>0.182235</td>\n",
       "      <td>0.517327</td>\n",
       "    </tr>\n",
       "    <tr>\n",
       "      <th>...</th>\n",
       "      <td>...</td>\n",
       "      <td>...</td>\n",
       "      <td>...</td>\n",
       "      <td>...</td>\n",
       "      <td>...</td>\n",
       "      <td>...</td>\n",
       "      <td>...</td>\n",
       "      <td>...</td>\n",
       "    </tr>\n",
       "    <tr>\n",
       "      <th>A r d e n n e s</th>\n",
       "      <td>-0.510141</td>\n",
       "      <td>-0.288464</td>\n",
       "      <td>-0.489568</td>\n",
       "      <td>-0.432299</td>\n",
       "      <td>-0.378439</td>\n",
       "      <td>-0.086580</td>\n",
       "      <td>-0.287679</td>\n",
       "      <td>-0.668042</td>\n",
       "    </tr>\n",
       "    <tr>\n",
       "      <th>P a r i s</th>\n",
       "      <td>2.976740</td>\n",
       "      <td>190.981537</td>\n",
       "      <td>3.164478</td>\n",
       "      <td>1585.861072</td>\n",
       "      <td>11.838666</td>\n",
       "      <td>7.515152</td>\n",
       "      <td>10.373639</td>\n",
       "      <td>6.426018</td>\n",
       "    </tr>\n",
       "    <tr>\n",
       "      <th>M a y e n n e</th>\n",
       "      <td>-0.448443</td>\n",
       "      <td>-0.222849</td>\n",
       "      <td>-0.445127</td>\n",
       "      <td>-0.033850</td>\n",
       "      <td>0.334869</td>\n",
       "      <td>-0.445887</td>\n",
       "      <td>-0.642980</td>\n",
       "      <td>-0.030253</td>\n",
       "    </tr>\n",
       "    <tr>\n",
       "      <th>D o r d o g n e</th>\n",
       "      <td>-0.255036</td>\n",
       "      <td>-0.350192</td>\n",
       "      <td>-0.244230</td>\n",
       "      <td>-0.337800</td>\n",
       "      <td>-0.918461</td>\n",
       "      <td>-0.645022</td>\n",
       "      <td>-0.562751</td>\n",
       "      <td>-0.621287</td>\n",
       "    </tr>\n",
       "    <tr>\n",
       "      <th>D o u b s</th>\n",
       "      <td>-0.026468</td>\n",
       "      <td>0.180741</td>\n",
       "      <td>-0.032562</td>\n",
       "      <td>-0.234838</td>\n",
       "      <td>0.854973</td>\n",
       "      <td>0.073593</td>\n",
       "      <td>0.587966</td>\n",
       "      <td>0.886964</td>\n",
       "    </tr>\n",
       "  </tbody>\n",
       "</table>\n",
       "<p>91 rows × 8 columns</p>\n",
       "</div>"
      ],
      "text/plain": [
       "                           pop_2018     densite  pop_municipale        hab_m  \\\n",
       "departement                                                                    \n",
       " I s è r e                 1.284619    0.800611        1.242093     0.744711   \n",
       " A u b e                  -0.443752   -0.294850       -0.450764    -0.368124   \n",
       " P u y - d e - D ô m e     0.182451   -0.013512        0.165045     0.090268   \n",
       " V a l - d e - M a r n e   1.520007   51.993985        1.462224    19.148801   \n",
       " E u r e - e t - L o i r  -0.219279   -0.090787       -0.215903    -0.107898   \n",
       "...                             ...         ...             ...          ...   \n",
       " A r d e n n e s          -0.510141   -0.288464       -0.489568    -0.432299   \n",
       " P a r i s                 2.976740  190.981537        3.164478  1585.861072   \n",
       " M a y e n n e            -0.448443   -0.222849       -0.445127    -0.033850   \n",
       " D o r d o g n e          -0.255036   -0.350192       -0.244230    -0.337800   \n",
       " D o u b s                -0.026468    0.180741       -0.032562    -0.234838   \n",
       "\n",
       "                            pib_2000     décla      impot  revenu_moyen  \n",
       "departement                                                              \n",
       " I s è r e                  0.865181  1.506494   0.645272      1.056381  \n",
       " A u b e                    0.272874 -0.207792   0.356447     -0.085534  \n",
       " P u y - d e - D ô m e      0.616706  0.627706   0.175358      0.312981  \n",
       " V a l - d e - M a r n e    1.203286  2.948052   2.720917      1.806381  \n",
       " E u r e - e t - L o i r    0.107556  0.735931   0.182235      0.517327  \n",
       "...                              ...       ...        ...           ...  \n",
       " A r d e n n e s           -0.378439 -0.086580  -0.287679     -0.668042  \n",
       " P a r i s                 11.838666  7.515152  10.373639      6.426018  \n",
       " M a y e n n e              0.334869 -0.445887  -0.642980     -0.030253  \n",
       " D o r d o g n e           -0.918461 -0.645022  -0.562751     -0.621287  \n",
       " D o u b s                  0.854973  0.073593   0.587966      0.886964  \n",
       "\n",
       "[91 rows x 8 columns]"
      ]
     },
     "execution_count": 14,
     "metadata": {},
     "output_type": "execute_result"
    }
   ],
   "source": [
    "df_final"
   ]
  },
  {
   "cell_type": "markdown",
   "metadata": {},
   "source": [
    "Nous obtenons donc finalement un jeu de données où ces dernières ont été nettoyées, on a choisi les meilleures variables et on a appliqué un échelonnage robuste afin de pallier au problème des valeurs extrêmes et de faciliter les calculs."
   ]
  },
  {
   "cell_type": "code",
   "execution_count": 15,
   "metadata": {},
   "outputs": [],
   "source": [
    "filename = 'df_final.csv'\n",
    "df_final.to_csv(filename, index=True, encoding='utf-8')"
   ]
  },
  {
   "cell_type": "markdown",
   "metadata": {},
   "source": [
    "Au cours de cette phase, nous avons réussi à rendre nos données exploitables et à les connaître un peu mieux. \n",
    "La prochaine phase est la phase d'apprentissage afin de trouver un modèle qui prédit bien les revenu moyen à partir des données qu'on lui fournit."
   ]
  }
 ],
 "metadata": {
  "kernelspec": {
   "display_name": "Python 3",
   "language": "python",
   "name": "python3"
  },
  "language_info": {
   "codemirror_mode": {
    "name": "ipython",
    "version": 3
   },
   "file_extension": ".py",
   "mimetype": "text/x-python",
   "name": "python",
   "nbconvert_exporter": "python",
   "pygments_lexer": "ipython3",
   "version": "3.8.5"
  }
 },
 "nbformat": 4,
 "nbformat_minor": 4
}
