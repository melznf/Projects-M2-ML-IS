{
 "cells": [
  {
   "cell_type": "markdown",
   "metadata": {},
   "source": [
    "# Projet Machine Learning"
   ]
  },
  {
   "cell_type": "markdown",
   "metadata": {},
   "source": [
    "Mélissa Zennaf - Janvier 2021"
   ]
  },
  {
   "cell_type": "markdown",
   "metadata": {},
   "source": [
    "Les notebooks suivants ainsi que la librairie qui leur est associée constituent le fruit du Projet Machine Learning correspondant à l'enseignement du même nom au sein du Master Mécen. "
   ]
  },
  {
   "cell_type": "markdown",
   "metadata": {},
   "source": [
    "# Introduction"
   ]
  },
  {
   "cell_type": "markdown",
   "metadata": {},
   "source": [
    "**En tant que future jeune diplômée, je serai prochainement amenée à trouver du travail et ce sera certainement dans un autre départemet que l'Indre-et-Loire. Ma problématique est de savoir dans quel département français je suis susceptible de percevoir la rémunération la plus élevée. Existe-t-il des disparités de salaire entre les départements français ? Quels sont les déterminants et aboutissants de ces disparités ? Dans quel département s'installer pour maximiser sa rémunération ?**\n",
    "\n",
    "Pour tenter de répondre à cette problématique:\n",
    "* données économiques, \n",
    "* données géographiques, \n",
    "* données démographiques, \n",
    "* données financières."
   ]
  },
  {
   "cell_type": "markdown",
   "metadata": {},
   "source": [
    "On recherche **les features $X$ pour lesquels une relation $y=f(X)$ est possible et pertinente** avec $y$ la variable à expliquer, à savoir le revenu moyen au sein d'un département. On s'attachera à définir la relation $f()$ dans la partie trois de cette étude.\n",
    "\n",
    "Les principales **librairies** utilisées seront :\n",
    "* numpy\n",
    "* matplotlib\n",
    "* requests\n",
    "* seaborn\n",
    "* scikit learn\n",
    "* pandas\n",
    "* bs4\n",
    "\n",
    "Nous commençons par une phase de recherche internet et de récupération des données."
   ]
  },
  {
   "cell_type": "markdown",
   "metadata": {},
   "source": [
    "# Récupération des données"
   ]
  },
  {
   "cell_type": "markdown",
   "metadata": {},
   "source": [
    "**Dans cette première partie, nous allons scraper des données sur le web afin des se constituer une base de données.**"
   ]
  },
  {
   "cell_type": "markdown",
   "metadata": {},
   "source": [
    "On commence par importer les librairies et fonctions nécessaires à ce travail."
   ]
  },
  {
   "cell_type": "code",
   "execution_count": 1,
   "metadata": {},
   "outputs": [],
   "source": [
    "from requests import get\n",
    "from bs4 import BeautifulSoup as BS\n",
    "import re\n",
    "import pandas as pd\n",
    "import numpy as np\n",
    "from string import digits"
   ]
  },
  {
   "cell_type": "code",
   "execution_count": 2,
   "metadata": {},
   "outputs": [],
   "source": [
    "from script import adresse, get_pages, find_jdn, find_wiki, find_wiki_2, gestion_ligne5, gestion_ligne9, gestion_ligne12, gestion_ligne14, gestion_ligne6, gestion_ligne7, gestion_ligne8, construit_df, URL1, URL2, URL3, URL4, URL5, URL6, URL7, URL8, URL9, URL10, URL11, merge, columns1, columns2, columns3, columns4, columns5, columns6, columns7, tous_les_df"
   ]
  },
  {
   "cell_type": "markdown",
   "metadata": {},
   "source": [
    "Au cours de la phase de modélisation, nous avons donc établi que nous cherchons à extraire des données sur les départements français. Pour ceci, on s'est constitué un **catalogue des sources internet** :\n",
    "\n",
    "* [pib des départements français - Wikipédia](https://fr.wikipedia.org/wiki/Liste_des_d%C3%A9partements_fran%C3%A7ais_class%C3%A9s_par_produit_int%C3%A9rieur_brut_par_habitant)\n",
    "\n",
    "* [population et superficie des départements français - Wikipédia](https://fr.wikipedia.org/wiki/Liste_des_d%C3%A9partements_fran%C3%A7ais_class%C3%A9s_par_population_et_superficie)\n",
    "\n",
    "* [nombre de communes par département - Wikipédia](https://fr.wikipedia.org/wiki/Nombre_de_communes_par_d%C3%A9partement_en_France_au_1er_janvier_2014)\n",
    "\n",
    "* [salaire par département - Journal du net](http://www.journaldunet.com/business/salaire/classement/departements/salaires)\n",
    "\n",
    "* [revenu déclaré par département - Journal du net](http://www.journaldunet.com/economie/impots/classement/departements/revenu-fiscal)\n",
    "\n",
    "* [taxe foncière par département - Journal du net](http://www.journaldunet.com/economie/impots/classement/departements/taxe-fonciere-bati)\n",
    "\n",
    "* [impôt sur le revenu par département - Journal du net](http://www.journaldunet.com/economie/impots/classement/departements/impot-revenu)"
   ]
  },
  {
   "cell_type": "markdown",
   "metadata": {},
   "source": [
    "## Web scraping des données "
   ]
  },
  {
   "cell_type": "markdown",
   "metadata": {},
   "source": [
    "La fonction de scraping est **différente pour chaque source** mais on utilise la **même procédure**.\n",
    "\n",
    "* ``lignes3=list(find_wiki(adresse(URL1)))``\n",
    "\n",
    "* ``res3=gestion_ligne6(lignes3)``\n",
    "\n",
    "Suite à cette procédure, on stocke nos données dans une **liste de listes** pour chaque source.\n",
    "\n",
    "La fonction nommée ``gestion_ligne i ()`` varie pour chaque source.\n",
    "\n",
    "### Cas 1 : toutes les données sur une même page\n",
    "\n",
    "Dans le cas le plus simple, toutes les données sont sur la **même page**, dans ce cas, on met en entrée le lien url et on récupère directement les données. "
   ]
  },
  {
   "cell_type": "code",
   "execution_count": 3,
   "metadata": {},
   "outputs": [],
   "source": [
    "lignes3=list(find_wiki(adresse(URL1)))\n",
    "res1=gestion_ligne6(lignes3)"
   ]
  },
  {
   "cell_type": "code",
   "execution_count": 4,
   "metadata": {},
   "outputs": [],
   "source": [
    "lignes4=list(find_wiki_2(adresse(URL2)))\n",
    "res2=gestion_ligne7(lignes4)\n",
    "res2[1][1]= ' P a r i s '"
   ]
  },
  {
   "cell_type": "code",
   "execution_count": 5,
   "metadata": {},
   "outputs": [],
   "source": [
    "lignes5=list(find_wiki_2(adresse(URL3)))\n",
    "res3=gestion_ligne8(lignes5)"
   ]
  },
  {
   "cell_type": "markdown",
   "metadata": {},
   "source": [
    "### Cas 2 : les données sur deux pages\n",
    "\n",
    "Dans ce cas un peu différent, les données d'un tableau apparaissent sur **deux pages ayant des url différents**. On choisit d'appeler la fonction à deux reprises."
   ]
  },
  {
   "cell_type": "code",
   "execution_count": 6,
   "metadata": {},
   "outputs": [],
   "source": [
    "lignes=list(find_jdn(adresse(URL4)))\n",
    "lignes2=list(find_jdn(adresse(URL5)))\n",
    "gestion_ligne5(lignes)\n",
    "res4=gestion_ligne5(lignes2)"
   ]
  },
  {
   "cell_type": "code",
   "execution_count": 7,
   "metadata": {},
   "outputs": [],
   "source": [
    "lignes4=list(find_jdn(adresse(URL6)))\n",
    "lignes42=list(find_jdn(adresse(URL7)))\n",
    "gestion_ligne9(lignes4)\n",
    "res5=gestion_ligne9(lignes42)"
   ]
  },
  {
   "cell_type": "code",
   "execution_count": 8,
   "metadata": {},
   "outputs": [],
   "source": [
    "lignes10=list(find_jdn(adresse(URL8)))\n",
    "lignes102=list(find_jdn(adresse(URL9)))\n",
    "gestion_ligne14(lignes10)\n",
    "res6=gestion_ligne14(lignes102)"
   ]
  },
  {
   "cell_type": "markdown",
   "metadata": {},
   "source": [
    "### Cas 3 : les données sur trois pages\n",
    "\n",
    "Enfin, dans ce dernier cas, il y a **trois pages**. On va cette fois créer une boucle qui nous permet de créer des liens pour les pages 2 et 3. Cette fonction est codée de la manière suivante :\n",
    "\n",
    "``def get_pages(token, nb):\n",
    "    pages = []\n",
    "    for i in range(2,nb+1):\n",
    "        j = token + str(i)\n",
    "        pages.append(j)\n",
    "    return pages``\n",
    "\n",
    "On applique ensuite une boucle sur les pages deux et trois. "
   ]
  },
  {
   "cell_type": "code",
   "execution_count": 9,
   "metadata": {},
   "outputs": [],
   "source": [
    "lignes8=list(find_jdn(adresse(URL10)))\n",
    "gestion_ligne12(lignes8)\n",
    "token = URL11\n",
    "pages = get_pages(token,3)\n",
    "for i in range(len(pages)) :\n",
    "    lignes82=list(find_jdn(adresse(pages[i])))\n",
    "    res7=gestion_ligne12(lignes82)"
   ]
  },
  {
   "cell_type": "markdown",
   "metadata": {},
   "source": [
    "## Constitution de la base de données"
   ]
  },
  {
   "cell_type": "markdown",
   "metadata": {},
   "source": [
    "**Nous avons donc en notre possession les listes de liste contenant nos données**.\n",
    "\n",
    "On transforme les données en data frame puis on les réunit. "
   ]
  },
  {
   "cell_type": "code",
   "execution_count": 10,
   "metadata": {},
   "outputs": [],
   "source": [
    "df1, df2, df3, df4, df5, df6, df7 = tous_les_df(res1, res2, res3, res4, res5, res6, res7)"
   ]
  },
  {
   "cell_type": "code",
   "execution_count": 11,
   "metadata": {},
   "outputs": [],
   "source": [
    "df=merge(df1, df2, df3, df4, df5, df6, df7)"
   ]
  },
  {
   "cell_type": "markdown",
   "metadata": {},
   "source": [
    "Nous obtenons le data frame suivant. On peut voir que l'on a plus que **92 lignes sur les 100 départements** français."
   ]
  },
  {
   "cell_type": "code",
   "execution_count": 12,
   "metadata": {},
   "outputs": [
    {
     "data": {
      "text/html": [
       "<div>\n",
       "<style scoped>\n",
       "    .dataframe tbody tr th:only-of-type {\n",
       "        vertical-align: middle;\n",
       "    }\n",
       "\n",
       "    .dataframe tbody tr th {\n",
       "        vertical-align: top;\n",
       "    }\n",
       "\n",
       "    .dataframe thead th {\n",
       "        text-align: right;\n",
       "    }\n",
       "</style>\n",
       "<table border=\"1\" class=\"dataframe\">\n",
       "  <thead>\n",
       "    <tr style=\"text-align: right;\">\n",
       "      <th></th>\n",
       "      <th>code_x</th>\n",
       "      <th>nom</th>\n",
       "      <th>pop_2013</th>\n",
       "      <th>pop_2017</th>\n",
       "      <th>pop_2018</th>\n",
       "      <th>superficie</th>\n",
       "      <th>densite</th>\n",
       "      <th>pib_2015</th>\n",
       "      <th>pib_2005</th>\n",
       "      <th>pib_2000</th>\n",
       "      <th>code_y</th>\n",
       "      <th>nb_commune</th>\n",
       "      <th>pop_municipale</th>\n",
       "      <th>hab_m</th>\n",
       "      <th>rmoyen</th>\n",
       "      <th>décla</th>\n",
       "      <th>taxe_om</th>\n",
       "      <th>impot</th>\n",
       "    </tr>\n",
       "  </thead>\n",
       "  <tbody>\n",
       "    <tr>\n",
       "      <th>0</th>\n",
       "      <td>59</td>\n",
       "      <td>N o r d</td>\n",
       "      <td>2595536</td>\n",
       "      <td>2604361</td>\n",
       "      <td>2606234</td>\n",
       "      <td>5743</td>\n",
       "      <td>454</td>\n",
       "      <td></td>\n",
       "      <td>23567</td>\n",
       "      <td>19794</td>\n",
       "      <td>59</td>\n",
       "      <td>650</td>\n",
       "      <td>2579208</td>\n",
       "      <td>3968</td>\n",
       "      <td>2427</td>\n",
       "      <td>24887</td>\n",
       "      <td>18,07</td>\n",
       "      <td>3414</td>\n",
       "    </tr>\n",
       "    <tr>\n",
       "      <th>1</th>\n",
       "      <td>75</td>\n",
       "      <td>P a r i s</td>\n",
       "      <td>2229621</td>\n",
       "      <td>2187526</td>\n",
       "      <td>2175601</td>\n",
       "      <td>105</td>\n",
       "      <td>20641</td>\n",
       "      <td>96400</td>\n",
       "      <td>75439</td>\n",
       "      <td>67502</td>\n",
       "      <td>75</td>\n",
       "      <td>1</td>\n",
       "      <td>2249975</td>\n",
       "      <td>2249975</td>\n",
       "      <td>4007</td>\n",
       "      <td>48301</td>\n",
       "      <td>13,50</td>\n",
       "      <td>11750</td>\n",
       "    </tr>\n",
       "    <tr>\n",
       "      <th>2</th>\n",
       "      <td>13</td>\n",
       "      <td>B o u c h e s - d u - R h ô n e</td>\n",
       "      <td>1993177</td>\n",
       "      <td>2024162</td>\n",
       "      <td>2034357</td>\n",
       "      <td>5087</td>\n",
       "      <td>400</td>\n",
       "      <td>34200</td>\n",
       "      <td>27818</td>\n",
       "      <td>23521</td>\n",
       "      <td>13</td>\n",
       "      <td>119</td>\n",
       "      <td>1975896</td>\n",
       "      <td>16604</td>\n",
       "      <td>2570</td>\n",
       "      <td>26751</td>\n",
       "      <td>21,06</td>\n",
       "      <td>3996</td>\n",
       "    </tr>\n",
       "    <tr>\n",
       "      <th>3</th>\n",
       "      <td>93</td>\n",
       "      <td>S e i n e - S a i n t - D e n i s</td>\n",
       "      <td>1552482</td>\n",
       "      <td>1623111</td>\n",
       "      <td>1632677</td>\n",
       "      <td>236</td>\n",
       "      <td>6912</td>\n",
       "      <td>38900</td>\n",
       "      <td>27420</td>\n",
       "      <td>23305</td>\n",
       "      <td>93</td>\n",
       "      <td>40</td>\n",
       "      <td>1529928</td>\n",
       "      <td>38248</td>\n",
       "      <td>2398</td>\n",
       "      <td>21768</td>\n",
       "      <td>21,91</td>\n",
       "      <td>3095</td>\n",
       "    </tr>\n",
       "    <tr>\n",
       "      <th>4</th>\n",
       "      <td>92</td>\n",
       "      <td>H a u t s - d e - S e i n e</td>\n",
       "      <td>1591403</td>\n",
       "      <td>1609306</td>\n",
       "      <td>1619120</td>\n",
       "      <td>176</td>\n",
       "      <td>9221</td>\n",
       "      <td>97500</td>\n",
       "      <td>73277</td>\n",
       "      <td>62244</td>\n",
       "      <td>92</td>\n",
       "      <td>36</td>\n",
       "      <td>1581628</td>\n",
       "      <td>43934</td>\n",
       "      <td>3885</td>\n",
       "      <td>45966</td>\n",
       "      <td>16,04</td>\n",
       "      <td>9162</td>\n",
       "    </tr>\n",
       "  </tbody>\n",
       "</table>\n",
       "</div>"
      ],
      "text/plain": [
       "  code_x                                  nom pop_2013 pop_2017 pop_2018  \\\n",
       "0     59                             N o r d   2595536  2604361  2606234   \n",
       "1     75                           P a r i s   2229621  2187526  2175601   \n",
       "2     13     B o u c h e s - d u - R h ô n e   1993177  2024162  2034357   \n",
       "3     93   S e i n e - S a i n t - D e n i s   1552482  1623111  1632677   \n",
       "4     92         H a u t s - d e - S e i n e   1591403  1609306  1619120   \n",
       "\n",
       "  superficie densite pib_2015 pib_2005 pib_2000 code_y nb_commune  \\\n",
       "0       5743     454             23567    19794     59        650   \n",
       "1        105   20641    96400    75439    67502     75          1   \n",
       "2       5087     400    34200    27818    23521     13        119   \n",
       "3        236    6912    38900    27420    23305     93         40   \n",
       "4        176    9221    97500    73277    62244     92         36   \n",
       "\n",
       "  pop_municipale    hab_m rmoyen  décla taxe_om  impot  \n",
       "0        2579208     3968   2427  24887   18,07   3414  \n",
       "1        2249975  2249975   4007  48301   13,50  11750  \n",
       "2        1975896    16604   2570  26751   21,06   3996  \n",
       "3        1529928    38248   2398  21768   21,91   3095  \n",
       "4        1581628    43934   3885  45966   16,04   9162  "
      ]
     },
     "execution_count": 12,
     "metadata": {},
     "output_type": "execute_result"
    }
   ],
   "source": [
    "df.head()"
   ]
  },
  {
   "cell_type": "markdown",
   "metadata": {},
   "source": [
    "On enregistre finalement ce data frame au format csv en prévision de la suite de nos analyses. "
   ]
  },
  {
   "cell_type": "code",
   "execution_count": 13,
   "metadata": {},
   "outputs": [],
   "source": [
    "filename = 'df.csv'\n",
    "df.to_csv(filename, index=False, encoding='utf-8')"
   ]
  }
 ],
 "metadata": {
  "kernelspec": {
   "display_name": "Python 3",
   "language": "python",
   "name": "python3"
  },
  "language_info": {
   "codemirror_mode": {
    "name": "ipython",
    "version": 3
   },
   "file_extension": ".py",
   "mimetype": "text/x-python",
   "name": "python",
   "nbconvert_exporter": "python",
   "pygments_lexer": "ipython3",
   "version": "3.8.5"
  }
 },
 "nbformat": 4,
 "nbformat_minor": 4
}
